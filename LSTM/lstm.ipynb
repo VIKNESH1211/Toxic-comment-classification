{
 "cells": [
  {
   "cell_type": "code",
   "execution_count": 1,
   "metadata": {},
   "outputs": [],
   "source": [
    "import tensorflow as tf\n",
    "import pandas as pd\n",
    "from tensorflow import keras\n",
    "from sklearn.model_selection import train_test_split"
   ]
  },
  {
   "cell_type": "code",
   "execution_count": 2,
   "metadata": {},
   "outputs": [],
   "source": [
    "df = pd.read_csv(\"D:/Toxic Comments/Cleaning the data/cleaned.csv\" , encoding=\"latin-1\")"
   ]
  },
  {
   "cell_type": "code",
   "execution_count": 3,
   "metadata": {},
   "outputs": [
    {
     "data": {
      "text/html": [
       "<div>\n",
       "<style scoped>\n",
       "    .dataframe tbody tr th:only-of-type {\n",
       "        vertical-align: middle;\n",
       "    }\n",
       "\n",
       "    .dataframe tbody tr th {\n",
       "        vertical-align: top;\n",
       "    }\n",
       "\n",
       "    .dataframe thead th {\n",
       "        text-align: right;\n",
       "    }\n",
       "</style>\n",
       "<table border=\"1\" class=\"dataframe\">\n",
       "  <thead>\n",
       "    <tr style=\"text-align: right;\">\n",
       "      <th></th>\n",
       "      <th>Unnamed: 0</th>\n",
       "      <th>id</th>\n",
       "      <th>comment_text</th>\n",
       "      <th>toxic</th>\n",
       "      <th>severe_toxic</th>\n",
       "      <th>obscene</th>\n",
       "      <th>threat</th>\n",
       "      <th>insult</th>\n",
       "      <th>identity_hate</th>\n",
       "    </tr>\n",
       "  </thead>\n",
       "  <tbody>\n",
       "    <tr>\n",
       "      <th>0</th>\n",
       "      <td>0</td>\n",
       "      <td>0000997932d777bf</td>\n",
       "      <td>explanation edits made username hardcore metal...</td>\n",
       "      <td>0</td>\n",
       "      <td>0</td>\n",
       "      <td>0</td>\n",
       "      <td>0</td>\n",
       "      <td>0</td>\n",
       "      <td>0</td>\n",
       "    </tr>\n",
       "    <tr>\n",
       "      <th>1</th>\n",
       "      <td>1</td>\n",
       "      <td>000103f0d9cfb60f</td>\n",
       "      <td>d'aww! matches background colour i'm seemingly...</td>\n",
       "      <td>0</td>\n",
       "      <td>0</td>\n",
       "      <td>0</td>\n",
       "      <td>0</td>\n",
       "      <td>0</td>\n",
       "      <td>0</td>\n",
       "    </tr>\n",
       "    <tr>\n",
       "      <th>2</th>\n",
       "      <td>2</td>\n",
       "      <td>000113f07ec002fd</td>\n",
       "      <td>hey man, i'm really trying edit war. guy const...</td>\n",
       "      <td>0</td>\n",
       "      <td>0</td>\n",
       "      <td>0</td>\n",
       "      <td>0</td>\n",
       "      <td>0</td>\n",
       "      <td>0</td>\n",
       "    </tr>\n",
       "    <tr>\n",
       "      <th>3</th>\n",
       "      <td>3</td>\n",
       "      <td>0001b41b1c6bb37e</td>\n",
       "      <td>\" can't make real suggestions improvement - wo...</td>\n",
       "      <td>0</td>\n",
       "      <td>0</td>\n",
       "      <td>0</td>\n",
       "      <td>0</td>\n",
       "      <td>0</td>\n",
       "      <td>0</td>\n",
       "    </tr>\n",
       "    <tr>\n",
       "      <th>4</th>\n",
       "      <td>4</td>\n",
       "      <td>0001d958c54c6e35</td>\n",
       "      <td>you, sir, hero. chance remember page that's on?</td>\n",
       "      <td>0</td>\n",
       "      <td>0</td>\n",
       "      <td>0</td>\n",
       "      <td>0</td>\n",
       "      <td>0</td>\n",
       "      <td>0</td>\n",
       "    </tr>\n",
       "    <tr>\n",
       "      <th>5</th>\n",
       "      <td>5</td>\n",
       "      <td>00025465d4725e87</td>\n",
       "      <td>\" congratulations well, use tools well. Ã¢ Ã¢Â...</td>\n",
       "      <td>0</td>\n",
       "      <td>0</td>\n",
       "      <td>0</td>\n",
       "      <td>0</td>\n",
       "      <td>0</td>\n",
       "      <td>0</td>\n",
       "    </tr>\n",
       "    <tr>\n",
       "      <th>6</th>\n",
       "      <td>6</td>\n",
       "      <td>0002bcb3da6cb337</td>\n",
       "      <td>cocksucker piss around work</td>\n",
       "      <td>1</td>\n",
       "      <td>1</td>\n",
       "      <td>1</td>\n",
       "      <td>0</td>\n",
       "      <td>1</td>\n",
       "      <td>0</td>\n",
       "    </tr>\n",
       "    <tr>\n",
       "      <th>7</th>\n",
       "      <td>7</td>\n",
       "      <td>00031b1e95af7921</td>\n",
       "      <td>vandalism matt shirvington article reverted. p...</td>\n",
       "      <td>0</td>\n",
       "      <td>0</td>\n",
       "      <td>0</td>\n",
       "      <td>0</td>\n",
       "      <td>0</td>\n",
       "      <td>0</td>\n",
       "    </tr>\n",
       "    <tr>\n",
       "      <th>8</th>\n",
       "      <td>8</td>\n",
       "      <td>00037261f536c51d</td>\n",
       "      <td>sorry word 'nonsense' offensive you. anyway, i...</td>\n",
       "      <td>0</td>\n",
       "      <td>0</td>\n",
       "      <td>0</td>\n",
       "      <td>0</td>\n",
       "      <td>0</td>\n",
       "      <td>0</td>\n",
       "    </tr>\n",
       "    <tr>\n",
       "      <th>9</th>\n",
       "      <td>9</td>\n",
       "      <td>00040093b2687caa</td>\n",
       "      <td>alignment subject contrary dulithgow</td>\n",
       "      <td>0</td>\n",
       "      <td>0</td>\n",
       "      <td>0</td>\n",
       "      <td>0</td>\n",
       "      <td>0</td>\n",
       "      <td>0</td>\n",
       "    </tr>\n",
       "    <tr>\n",
       "      <th>10</th>\n",
       "      <td>10</td>\n",
       "      <td>0005300084f90edc</td>\n",
       "      <td>\" fair use rationale image:wonju.jpg thanks up...</td>\n",
       "      <td>0</td>\n",
       "      <td>0</td>\n",
       "      <td>0</td>\n",
       "      <td>0</td>\n",
       "      <td>0</td>\n",
       "      <td>0</td>\n",
       "    </tr>\n",
       "    <tr>\n",
       "      <th>11</th>\n",
       "      <td>11</td>\n",
       "      <td>00054a5e18b50dd4</td>\n",
       "      <td>bbq man lets discuss it-maybe phone?</td>\n",
       "      <td>0</td>\n",
       "      <td>0</td>\n",
       "      <td>0</td>\n",
       "      <td>0</td>\n",
       "      <td>0</td>\n",
       "      <td>0</td>\n",
       "    </tr>\n",
       "    <tr>\n",
       "      <th>12</th>\n",
       "      <td>12</td>\n",
       "      <td>0005c987bdfc9d4b</td>\n",
       "      <td>hey... it.. @ | talk . it... exclusive group w...</td>\n",
       "      <td>1</td>\n",
       "      <td>0</td>\n",
       "      <td>0</td>\n",
       "      <td>0</td>\n",
       "      <td>0</td>\n",
       "      <td>0</td>\n",
       "    </tr>\n",
       "    <tr>\n",
       "      <th>13</th>\n",
       "      <td>13</td>\n",
       "      <td>0006f16e4e9f292e</td>\n",
       "      <td>start throwing accusations warnings me, lets r...</td>\n",
       "      <td>0</td>\n",
       "      <td>0</td>\n",
       "      <td>0</td>\n",
       "      <td>0</td>\n",
       "      <td>0</td>\n",
       "      <td>0</td>\n",
       "    </tr>\n",
       "    <tr>\n",
       "      <th>14</th>\n",
       "      <td>14</td>\n",
       "      <td>00070ef96486d6f9</td>\n",
       "      <td>oh, girl started arguments me. stuck nose belo...</td>\n",
       "      <td>0</td>\n",
       "      <td>0</td>\n",
       "      <td>0</td>\n",
       "      <td>0</td>\n",
       "      <td>0</td>\n",
       "      <td>0</td>\n",
       "    </tr>\n",
       "    <tr>\n",
       "      <th>15</th>\n",
       "      <td>15</td>\n",
       "      <td>00078f8ce7eb276d</td>\n",
       "      <td>\" juelz santanas age 2002, juelz santana 18 ye...</td>\n",
       "      <td>0</td>\n",
       "      <td>0</td>\n",
       "      <td>0</td>\n",
       "      <td>0</td>\n",
       "      <td>0</td>\n",
       "      <td>0</td>\n",
       "    </tr>\n",
       "    <tr>\n",
       "      <th>16</th>\n",
       "      <td>16</td>\n",
       "      <td>0007e25b2121310b</td>\n",
       "      <td>bye! look, come think comming back! tosser.</td>\n",
       "      <td>1</td>\n",
       "      <td>0</td>\n",
       "      <td>0</td>\n",
       "      <td>0</td>\n",
       "      <td>0</td>\n",
       "      <td>0</td>\n",
       "    </tr>\n",
       "    <tr>\n",
       "      <th>17</th>\n",
       "      <td>17</td>\n",
       "      <td>000897889268bc93</td>\n",
       "      <td>redirect talk:voydan pop georgiev- chernodrinski</td>\n",
       "      <td>0</td>\n",
       "      <td>0</td>\n",
       "      <td>0</td>\n",
       "      <td>0</td>\n",
       "      <td>0</td>\n",
       "      <td>0</td>\n",
       "    </tr>\n",
       "    <tr>\n",
       "      <th>18</th>\n",
       "      <td>18</td>\n",
       "      <td>0009801bd85e5806</td>\n",
       "      <td>mitsurugi point made sense - argue include hin...</td>\n",
       "      <td>0</td>\n",
       "      <td>0</td>\n",
       "      <td>0</td>\n",
       "      <td>0</td>\n",
       "      <td>0</td>\n",
       "      <td>0</td>\n",
       "    </tr>\n",
       "    <tr>\n",
       "      <th>19</th>\n",
       "      <td>19</td>\n",
       "      <td>0009eaea3325de8c</td>\n",
       "      <td>mean bother see writing something regarding re...</td>\n",
       "      <td>0</td>\n",
       "      <td>0</td>\n",
       "      <td>0</td>\n",
       "      <td>0</td>\n",
       "      <td>0</td>\n",
       "      <td>0</td>\n",
       "    </tr>\n",
       "  </tbody>\n",
       "</table>\n",
       "</div>"
      ],
      "text/plain": [
       "    Unnamed: 0                id  \\\n",
       "0            0  0000997932d777bf   \n",
       "1            1  000103f0d9cfb60f   \n",
       "2            2  000113f07ec002fd   \n",
       "3            3  0001b41b1c6bb37e   \n",
       "4            4  0001d958c54c6e35   \n",
       "5            5  00025465d4725e87   \n",
       "6            6  0002bcb3da6cb337   \n",
       "7            7  00031b1e95af7921   \n",
       "8            8  00037261f536c51d   \n",
       "9            9  00040093b2687caa   \n",
       "10          10  0005300084f90edc   \n",
       "11          11  00054a5e18b50dd4   \n",
       "12          12  0005c987bdfc9d4b   \n",
       "13          13  0006f16e4e9f292e   \n",
       "14          14  00070ef96486d6f9   \n",
       "15          15  00078f8ce7eb276d   \n",
       "16          16  0007e25b2121310b   \n",
       "17          17  000897889268bc93   \n",
       "18          18  0009801bd85e5806   \n",
       "19          19  0009eaea3325de8c   \n",
       "\n",
       "                                         comment_text  toxic  severe_toxic  \\\n",
       "0   explanation edits made username hardcore metal...      0             0   \n",
       "1   d'aww! matches background colour i'm seemingly...      0             0   \n",
       "2   hey man, i'm really trying edit war. guy const...      0             0   \n",
       "3   \" can't make real suggestions improvement - wo...      0             0   \n",
       "4     you, sir, hero. chance remember page that's on?      0             0   \n",
       "5   \" congratulations well, use tools well. Ã¢ Ã¢Â...      0             0   \n",
       "6                         cocksucker piss around work      1             1   \n",
       "7   vandalism matt shirvington article reverted. p...      0             0   \n",
       "8   sorry word 'nonsense' offensive you. anyway, i...      0             0   \n",
       "9                alignment subject contrary dulithgow      0             0   \n",
       "10  \" fair use rationale image:wonju.jpg thanks up...      0             0   \n",
       "11               bbq man lets discuss it-maybe phone?      0             0   \n",
       "12  hey... it.. @ | talk . it... exclusive group w...      1             0   \n",
       "13  start throwing accusations warnings me, lets r...      0             0   \n",
       "14  oh, girl started arguments me. stuck nose belo...      0             0   \n",
       "15  \" juelz santanas age 2002, juelz santana 18 ye...      0             0   \n",
       "16        bye! look, come think comming back! tosser.      1             0   \n",
       "17   redirect talk:voydan pop georgiev- chernodrinski      0             0   \n",
       "18  mitsurugi point made sense - argue include hin...      0             0   \n",
       "19  mean bother see writing something regarding re...      0             0   \n",
       "\n",
       "    obscene  threat  insult  identity_hate  \n",
       "0         0       0       0              0  \n",
       "1         0       0       0              0  \n",
       "2         0       0       0              0  \n",
       "3         0       0       0              0  \n",
       "4         0       0       0              0  \n",
       "5         0       0       0              0  \n",
       "6         1       0       1              0  \n",
       "7         0       0       0              0  \n",
       "8         0       0       0              0  \n",
       "9         0       0       0              0  \n",
       "10        0       0       0              0  \n",
       "11        0       0       0              0  \n",
       "12        0       0       0              0  \n",
       "13        0       0       0              0  \n",
       "14        0       0       0              0  \n",
       "15        0       0       0              0  \n",
       "16        0       0       0              0  \n",
       "17        0       0       0              0  \n",
       "18        0       0       0              0  \n",
       "19        0       0       0              0  "
      ]
     },
     "execution_count": 3,
     "metadata": {},
     "output_type": "execute_result"
    }
   ],
   "source": [
    "df.head(20)"
   ]
  },
  {
   "cell_type": "code",
   "execution_count": 4,
   "metadata": {},
   "outputs": [],
   "source": [
    "x_train , x_split , y_train , y_split = train_test_split(df[\"comment_text\"] , \n",
    "                                df[[\"toxic\" , \"severe_toxic\" , \"obscene\" , \"threat\" , \"insult\" , \"identity_hate\"]] , \n",
    "                                test_size= 0.3 , random_state=42)"
   ]
  },
  {
   "cell_type": "code",
   "execution_count": 5,
   "metadata": {},
   "outputs": [],
   "source": [
    "x_test , x_val , y_test , y_val  = train_test_split( x_split, y_split, test_size= 0.5, random_state=42)"
   ]
  },
  {
   "cell_type": "code",
   "execution_count": 6,
   "metadata": {},
   "outputs": [
    {
     "name": "stdout",
     "output_type": "stream",
     "text": [
      "(111699,)\n",
      "(23936,)\n",
      "(23936,)\n",
      "(111699, 6)\n",
      "(23936, 6)\n",
      "(23936, 6)\n"
     ]
    }
   ],
   "source": [
    "print(x_train.shape)\n",
    "print(x_test.shape)\n",
    "print(x_val.shape)\n",
    "print(y_train.shape)\n",
    "print(y_test.shape)\n",
    "print(y_val.shape)"
   ]
  },
  {
   "cell_type": "code",
   "execution_count": 7,
   "metadata": {},
   "outputs": [
    {
     "data": {
      "text/plain": [
       "37"
      ]
     },
     "execution_count": 7,
     "metadata": {},
     "output_type": "execute_result"
    }
   ],
   "source": [
    "round(sum([len(i.split()) for i in x_train])/len(x_train))"
   ]
  },
  {
   "cell_type": "code",
   "execution_count": 8,
   "metadata": {},
   "outputs": [],
   "source": [
    "from tensorflow.keras.layers.experimental.preprocessing import TextVectorization"
   ]
  },
  {
   "cell_type": "code",
   "execution_count": 9,
   "metadata": {},
   "outputs": [
    {
     "data": {
      "text/plain": [
       "<keras.layers.preprocessing.text_vectorization.TextVectorization at 0x20a1a7608e0>"
      ]
     },
     "execution_count": 9,
     "metadata": {},
     "output_type": "execute_result"
    }
   ],
   "source": [
    "text_vec = TextVectorization(max_tokens= None , output_mode= 'int' , output_sequence_length= 55 , standardize= \"lower_and_strip_punctuation\" , split=\"whitespace\")\n",
    "text_vec"
   ]
  },
  {
   "cell_type": "code",
   "execution_count": 10,
   "metadata": {},
   "outputs": [],
   "source": [
    "text_vec.adapt(x_train)"
   ]
  },
  {
   "cell_type": "code",
   "execution_count": 11,
   "metadata": {},
   "outputs": [],
   "source": [
    "embed = keras.layers.Embedding (input_dim=30000, \n",
    "                                output_dim=128, \n",
    "                                embeddings_initializer=\"uniform\", \n",
    "                                input_length=55,\n",
    "                                name=\"embedding_1\")"
   ]
  },
  {
   "cell_type": "code",
   "execution_count": 12,
   "metadata": {},
   "outputs": [
    {
     "data": {
      "text/plain": [
       "<keras.layers.embeddings.Embedding at 0x20a22a0b5e0>"
      ]
     },
     "execution_count": 12,
     "metadata": {},
     "output_type": "execute_result"
    }
   ],
   "source": [
    "embed"
   ]
  },
  {
   "cell_type": "code",
   "execution_count": 13,
   "metadata": {},
   "outputs": [],
   "source": [
    "from tensorflow.keras import layers"
   ]
  },
  {
   "cell_type": "code",
   "execution_count": 14,
   "metadata": {},
   "outputs": [],
   "source": [
    "input = layers.Input(shape=(1,), dtype=\"string\")\n",
    "\n",
    "tv = text_vec (input)\n",
    "\n",
    "em = embed(tv)\n",
    "\n",
    "LSTM = layers.LSTM(64 , kernel_initializer= keras.initializers.RandomNormal(stddev=0.0001) ,\n",
    "                         recurrent_initializer = keras.initializers.Identity(gain=1.0))(em)\n",
    "\n",
    "drop1 = layers.Dropout(0.2)(LSTM)  \n",
    "\n",
    "dense1 = layers.Dense(32 , activation=\"relu\")(drop1)\n",
    "\n",
    "drop2 = layers.Dropout(0.2)(dense1)\n",
    "\n",
    "dense2 = layers.Dense(32 , activation=\"relu\")(drop2)\n",
    "\n",
    "output1 = layers.Dense(1 , activation=\"sigmoid\" , name = \"toxic\")(dense2)\n",
    "output2 = layers.Dense(1 , activation=\"sigmoid\" , name = \"severe_toxic\")(dense2)\n",
    "output3 = layers.Dense(1 , activation=\"sigmoid\" , name = \"obscene\")(dense2)\n",
    "output4 = layers.Dense(1 , activation=\"sigmoid\" , name = \"threat\")(dense2)\n",
    "output5 = layers.Dense(1 , activation=\"sigmoid\" , name = \"insult\")(dense2)\n",
    "output6 = layers.Dense(1 , activation=\"sigmoid\" , name = \"identity_hate\")(dense2)\n",
    "\n",
    "model_LSTM = keras.Model(inputs= input , outputs = [output1,output2,output3,output4,output5,output6] , name = 'vannila_rnn')\n"
   ]
  },
  {
   "cell_type": "code",
   "execution_count": 15,
   "metadata": {},
   "outputs": [
    {
     "name": "stdout",
     "output_type": "stream",
     "text": [
      "Model: \"vannila_rnn\"\n",
      "__________________________________________________________________________________________________\n",
      " Layer (type)                   Output Shape         Param #     Connected to                     \n",
      "==================================================================================================\n",
      " input_1 (InputLayer)           [(None, 1)]          0           []                               \n",
      "                                                                                                  \n",
      " text_vectorization (TextVector  (None, 55)          0           ['input_1[0][0]']                \n",
      " ization)                                                                                         \n",
      "                                                                                                  \n",
      " embedding_1 (Embedding)        (None, 55, 128)      3840000     ['text_vectorization[0][0]']     \n",
      "                                                                                                  \n",
      " lstm (LSTM)                    (None, 64)           49408       ['embedding_1[0][0]']            \n",
      "                                                                                                  \n",
      " dropout (Dropout)              (None, 64)           0           ['lstm[0][0]']                   \n",
      "                                                                                                  \n",
      " dense (Dense)                  (None, 32)           2080        ['dropout[0][0]']                \n",
      "                                                                                                  \n",
      " dropout_1 (Dropout)            (None, 32)           0           ['dense[0][0]']                  \n",
      "                                                                                                  \n",
      " dense_1 (Dense)                (None, 32)           1056        ['dropout_1[0][0]']              \n",
      "                                                                                                  \n",
      " toxic (Dense)                  (None, 1)            33          ['dense_1[0][0]']                \n",
      "                                                                                                  \n",
      " severe_toxic (Dense)           (None, 1)            33          ['dense_1[0][0]']                \n",
      "                                                                                                  \n",
      " obscene (Dense)                (None, 1)            33          ['dense_1[0][0]']                \n",
      "                                                                                                  \n",
      " threat (Dense)                 (None, 1)            33          ['dense_1[0][0]']                \n",
      "                                                                                                  \n",
      " insult (Dense)                 (None, 1)            33          ['dense_1[0][0]']                \n",
      "                                                                                                  \n",
      " identity_hate (Dense)          (None, 1)            33          ['dense_1[0][0]']                \n",
      "                                                                                                  \n",
      "==================================================================================================\n",
      "Total params: 3,892,742\n",
      "Trainable params: 3,892,742\n",
      "Non-trainable params: 0\n",
      "__________________________________________________________________________________________________\n"
     ]
    }
   ],
   "source": [
    "model_LSTM.summary()"
   ]
  },
  {
   "cell_type": "code",
   "execution_count": 16,
   "metadata": {},
   "outputs": [],
   "source": [
    "from tensorflow.keras.utils import plot_model"
   ]
  },
  {
   "cell_type": "code",
   "execution_count": 17,
   "metadata": {},
   "outputs": [
    {
     "data": {
      "image/png": "[encoded data removed]",
      "text/plain": [
       "<IPython.core.display.Image object>"
      ]
     },
     "execution_count": 17,
     "metadata": {},
     "output_type": "execute_result"
    }
   ],
   "source": [
    "plot_model(model_LSTM)"
   ]
  },
  {
   "cell_type": "code",
   "execution_count": 18,
   "metadata": {},
   "outputs": [],
   "source": [
    "model_LSTM.compile(optimizer= tf.keras.optimizers.Adamax(learning_rate=1e-5 ) ,   \n",
    "                     loss = ['binary_crossentropy' , 'binary_crossentropy' , 'binary_crossentropy' , \n",
    "                     'binary_crossentropy' , 'binary_crossentropy' , 'binary_crossentropy'] , metrics= [\"accuracy\"])"
   ]
  },
  {
   "cell_type": "code",
   "execution_count": 19,
   "metadata": {},
   "outputs": [
    {
     "name": "stdout",
     "output_type": "stream",
     "text": [
      "Epoch 1/30\n",
      "219/219 [==============================] - 12s 36ms/step - loss: 4.1233 - toxic_loss: 0.6955 - severe_toxic_loss: 0.6754 - obscene_loss: 0.6866 - threat_loss: 0.6883 - insult_loss: 0.6932 - identity_hate_loss: 0.6843 - toxic_accuracy: 0.1151 - severe_toxic_accuracy: 0.9901 - obscene_accuracy: 0.9464 - threat_accuracy: 0.9895 - insult_accuracy: 0.5180 - identity_hate_accuracy: 0.9911 - val_loss: 4.0793 - val_toxic_loss: 0.6981 - val_severe_toxic_loss: 0.6543 - val_obscene_loss: 0.6784 - val_threat_loss: 0.6818 - val_insult_loss: 0.6929 - val_identity_hate_loss: 0.6738 - val_toxic_accuracy: 0.0969 - val_severe_toxic_accuracy: 0.9897 - val_obscene_accuracy: 0.9460 - val_threat_accuracy: 0.9972 - val_insult_accuracy: 0.2470 - val_identity_hate_accuracy: 0.9906\n",
      "Epoch 2/30\n",
      "219/219 [==============================] - 7s 31ms/step - loss: 4.0243 - toxic_loss: 0.7018 - severe_toxic_loss: 0.6269 - obscene_loss: 0.6686 - threat_loss: 0.6741 - insult_loss: 0.6932 - identity_hate_loss: 0.6596 - toxic_accuracy: 0.1170 - severe_toxic_accuracy: 0.9901 - obscene_accuracy: 0.9471 - threat_accuracy: 0.9954 - insult_accuracy: 0.5293 - identity_hate_accuracy: 0.9913 - val_loss: 3.9541 - val_toxic_loss: 0.7061 - val_severe_toxic_loss: 0.5948 - val_obscene_loss: 0.6553 - val_threat_loss: 0.6630 - val_insult_loss: 0.6919 - val_identity_hate_loss: 0.6431 - val_toxic_accuracy: 0.0969 - val_severe_toxic_accuracy: 0.9897 - val_obscene_accuracy: 0.9460 - val_threat_accuracy: 0.9972 - val_insult_accuracy: 0.9491 - val_identity_hate_accuracy: 0.9906\n",
      "Epoch 3/30\n",
      "219/219 [==============================] - 8s 37ms/step - loss: 3.8669 - toxic_loss: 0.7123 - severe_toxic_loss: 0.5530 - obscene_loss: 0.6397 - threat_loss: 0.6498 - insult_loss: 0.6920 - identity_hate_loss: 0.6200 - toxic_accuracy: 0.1162 - severe_toxic_accuracy: 0.9901 - obscene_accuracy: 0.9471 - threat_accuracy: 0.9956 - insult_accuracy: 0.5879 - identity_hate_accuracy: 0.9913 - val_loss: 3.7537 - val_toxic_loss: 0.7197 - val_severe_toxic_loss: 0.5048 - val_obscene_loss: 0.6172 - val_threat_loss: 0.6305 - val_insult_loss: 0.6882 - val_identity_hate_loss: 0.5932 - val_toxic_accuracy: 0.0969 - val_severe_toxic_accuracy: 0.9897 - val_obscene_accuracy: 0.9460 - val_threat_accuracy: 0.9972 - val_insult_accuracy: 0.9491 - val_identity_hate_accuracy: 0.9906\n",
      "Epoch 4/30\n",
      "219/219 [==============================] - 8s 35ms/step - loss: 3.6104 - toxic_loss: 0.7307 - severe_toxic_loss: 0.4421 - obscene_loss: 0.5908 - threat_loss: 0.6059 - insult_loss: 0.6874 - identity_hate_loss: 0.5535 - toxic_accuracy: 0.1174 - severe_toxic_accuracy: 0.9901 - obscene_accuracy: 0.9471 - threat_accuracy: 0.9960 - insult_accuracy: 0.6639 - identity_hate_accuracy: 0.9913 - val_loss: 3.4152 - val_toxic_loss: 0.7454 - val_severe_toxic_loss: 0.3683 - val_obscene_loss: 0.5494 - val_threat_loss: 0.5691 - val_insult_loss: 0.6780 - val_identity_hate_loss: 0.5052 - val_toxic_accuracy: 0.0969 - val_severe_toxic_accuracy: 0.9897 - val_obscene_accuracy: 0.9460 - val_threat_accuracy: 0.9972 - val_insult_accuracy: 0.9491 - val_identity_hate_accuracy: 0.9906\n",
      "Epoch 5/30\n",
      "219/219 [==============================] - 8s 35ms/step - loss: 3.1715 - toxic_loss: 0.7704 - severe_toxic_loss: 0.2845 - obscene_loss: 0.5005 - threat_loss: 0.5143 - insult_loss: 0.6717 - identity_hate_loss: 0.4301 - toxic_accuracy: 0.1231 - severe_toxic_accuracy: 0.9901 - obscene_accuracy: 0.9470 - threat_accuracy: 0.9963 - insult_accuracy: 0.7424 - identity_hate_accuracy: 0.9913 - val_loss: 2.8250 - val_toxic_loss: 0.8101 - val_severe_toxic_loss: 0.1931 - val_obscene_loss: 0.4164 - val_threat_loss: 0.4276 - val_insult_loss: 0.6425 - val_identity_hate_loss: 0.3355 - val_toxic_accuracy: 0.0969 - val_severe_toxic_accuracy: 0.9897 - val_obscene_accuracy: 0.9460 - val_threat_accuracy: 0.9972 - val_insult_accuracy: 0.9491 - val_identity_hate_accuracy: 0.9906\n",
      "Epoch 6/30\n",
      "219/219 [==============================] - 8s 35ms/step - loss: 2.6017 - toxic_loss: 0.8513 - severe_toxic_loss: 0.1589 - obscene_loss: 0.3731 - threat_loss: 0.3450 - insult_loss: 0.6159 - identity_hate_loss: 0.2576 - toxic_accuracy: 0.1425 - severe_toxic_accuracy: 0.9901 - obscene_accuracy: 0.9470 - threat_accuracy: 0.9964 - insult_accuracy: 0.8194 - identity_hate_accuracy: 0.9913 - val_loss: 2.3319 - val_toxic_loss: 0.8707 - val_severe_toxic_loss: 0.1336 - val_obscene_loss: 0.3177 - val_threat_loss: 0.2616 - val_insult_loss: 0.5493 - val_identity_hate_loss: 0.1991 - val_toxic_accuracy: 0.0969 - val_severe_toxic_accuracy: 0.9897 - val_obscene_accuracy: 0.9460 - val_threat_accuracy: 0.9972 - val_insult_accuracy: 0.9491 - val_identity_hate_accuracy: 0.9906\n",
      "Epoch 7/30\n",
      "219/219 [==============================] - 8s 35ms/step - loss: 2.2354 - toxic_loss: 0.8440 - severe_toxic_loss: 0.1237 - obscene_loss: 0.3231 - threat_loss: 0.2360 - insult_loss: 0.5289 - identity_hate_loss: 0.1799 - toxic_accuracy: 0.2148 - severe_toxic_accuracy: 0.9901 - obscene_accuracy: 0.9466 - threat_accuracy: 0.9966 - insult_accuracy: 0.8874 - identity_hate_accuracy: 0.9913 - val_loss: 1.9729 - val_toxic_loss: 0.8078 - val_severe_toxic_loss: 0.1016 - val_obscene_loss: 0.2804 - val_threat_loss: 0.1790 - val_insult_loss: 0.4606 - val_identity_hate_loss: 0.1434 - val_toxic_accuracy: 0.0969 - val_severe_toxic_accuracy: 0.9897 - val_obscene_accuracy: 0.9460 - val_threat_accuracy: 0.9972 - val_insult_accuracy: 0.9491 - val_identity_hate_accuracy: 0.9906\n",
      "Epoch 8/30\n",
      "219/219 [==============================] - 8s 36ms/step - loss: 1.8188 - toxic_loss: 0.7698 - severe_toxic_loss: 0.0805 - obscene_loss: 0.2719 - threat_loss: 0.1469 - insult_loss: 0.4377 - identity_hate_loss: 0.1120 - toxic_accuracy: 0.3729 - severe_toxic_accuracy: 0.9901 - obscene_accuracy: 0.9464 - threat_accuracy: 0.9965 - insult_accuracy: 0.9217 - identity_hate_accuracy: 0.9913 - val_loss: 1.5149 - val_toxic_loss: 0.7144 - val_severe_toxic_loss: 0.0657 - val_obscene_loss: 0.2200 - val_threat_loss: 0.0839 - val_insult_loss: 0.3593 - val_identity_hate_loss: 0.0715 - val_toxic_accuracy: 0.0967 - val_severe_toxic_accuracy: 0.9897 - val_obscene_accuracy: 0.9460 - val_threat_accuracy: 0.9972 - val_insult_accuracy: 0.9491 - val_identity_hate_accuracy: 0.9906\n",
      "Epoch 9/30\n",
      "219/219 [==============================] - 8s 35ms/step - loss: 1.4890 - toxic_loss: 0.6575 - severe_toxic_loss: 0.0686 - obscene_loss: 0.2421 - threat_loss: 0.0891 - insult_loss: 0.3573 - identity_hate_loss: 0.0743 - toxic_accuracy: 0.6165 - severe_toxic_accuracy: 0.9901 - obscene_accuracy: 0.9458 - threat_accuracy: 0.9967 - insult_accuracy: 0.9375 - identity_hate_accuracy: 0.9913 - val_loss: 1.2925 - val_toxic_loss: 0.5801 - val_severe_toxic_loss: 0.0668 - val_obscene_loss: 0.2146 - val_threat_loss: 0.0633 - val_insult_loss: 0.3033 - val_identity_hate_loss: 0.0644 - val_toxic_accuracy: 0.9031 - val_severe_toxic_accuracy: 0.9897 - val_obscene_accuracy: 0.9460 - val_threat_accuracy: 0.9972 - val_insult_accuracy: 0.9491 - val_identity_hate_accuracy: 0.9906\n",
      "Epoch 10/30\n",
      "219/219 [==============================] - 8s 35ms/step - loss: 1.3108 - toxic_loss: 0.5464 - severe_toxic_loss: 0.0696 - obscene_loss: 0.2394 - threat_loss: 0.0743 - insult_loss: 0.3112 - identity_hate_loss: 0.0700 - toxic_accuracy: 0.7968 - severe_toxic_accuracy: 0.9901 - obscene_accuracy: 0.9455 - threat_accuracy: 0.9968 - insult_accuracy: 0.9462 - identity_hate_accuracy: 0.9913 - val_loss: 1.1326 - val_toxic_loss: 0.4726 - val_severe_toxic_loss: 0.0679 - val_obscene_loss: 0.2139 - val_threat_loss: 0.0521 - val_insult_loss: 0.2644 - val_identity_hate_loss: 0.0618 - val_toxic_accuracy: 0.9031 - val_severe_toxic_accuracy: 0.9897 - val_obscene_accuracy: 0.9460 - val_threat_accuracy: 0.9972 - val_insult_accuracy: 0.9491 - val_identity_hate_accuracy: 0.9906\n",
      "Epoch 11/30\n",
      "219/219 [==============================] - 8s 36ms/step - loss: 1.1804 - toxic_loss: 0.4658 - severe_toxic_loss: 0.0709 - obscene_loss: 0.2368 - threat_loss: 0.0633 - insult_loss: 0.2763 - identity_hate_loss: 0.0673 - toxic_accuracy: 0.8645 - severe_toxic_accuracy: 0.9901 - obscene_accuracy: 0.9455 - threat_accuracy: 0.9967 - insult_accuracy: 0.9493 - identity_hate_accuracy: 0.9913 - val_loss: 1.0226 - val_toxic_loss: 0.3998 - val_severe_toxic_loss: 0.0689 - val_obscene_loss: 0.2132 - val_threat_loss: 0.0436 - val_insult_loss: 0.2376 - val_identity_hate_loss: 0.0596 - val_toxic_accuracy: 0.9031 - val_severe_toxic_accuracy: 0.9897 - val_obscene_accuracy: 0.9460 - val_threat_accuracy: 0.9972 - val_insult_accuracy: 0.9491 - val_identity_hate_accuracy: 0.9906\n",
      "Epoch 12/30\n",
      "219/219 [==============================] - 8s 35ms/step - loss: 1.0899 - toxic_loss: 0.4111 - severe_toxic_loss: 0.0717 - obscene_loss: 0.2358 - threat_loss: 0.0549 - insult_loss: 0.2512 - identity_hate_loss: 0.0653 - toxic_accuracy: 0.8891 - severe_toxic_accuracy: 0.9901 - obscene_accuracy: 0.9456 - threat_accuracy: 0.9967 - insult_accuracy: 0.9502 - identity_hate_accuracy: 0.9913 - val_loss: 0.9539 - val_toxic_loss: 0.3564 - val_severe_toxic_loss: 0.0698 - val_obscene_loss: 0.2122 - val_threat_loss: 0.0371 - val_insult_loss: 0.2207 - val_identity_hate_loss: 0.0577 - val_toxic_accuracy: 0.9031 - val_severe_toxic_accuracy: 0.9897 - val_obscene_accuracy: 0.9460 - val_threat_accuracy: 0.9972 - val_insult_accuracy: 0.9491 - val_identity_hate_accuracy: 0.9906\n",
      "Epoch 13/30\n",
      "219/219 [==============================] - 8s 36ms/step - loss: 1.0288 - toxic_loss: 0.3770 - severe_toxic_loss: 0.0732 - obscene_loss: 0.2338 - threat_loss: 0.0479 - insult_loss: 0.2342 - identity_hate_loss: 0.0627 - toxic_accuracy: 0.8971 - severe_toxic_accuracy: 0.9901 - obscene_accuracy: 0.9459 - threat_accuracy: 0.9968 - insult_accuracy: 0.9506 - identity_hate_accuracy: 0.9913 - val_loss: 0.9149 - val_toxic_loss: 0.3337 - val_severe_toxic_loss: 0.0707 - val_obscene_loss: 0.2113 - val_threat_loss: 0.0324 - val_insult_loss: 0.2105 - val_identity_hate_loss: 0.0562 - val_toxic_accuracy: 0.9031 - val_severe_toxic_accuracy: 0.9897 - val_obscene_accuracy: 0.9460 - val_threat_accuracy: 0.9972 - val_insult_accuracy: 0.9491 - val_identity_hate_accuracy: 0.9906\n",
      "Epoch 14/30\n",
      "219/219 [==============================] - 8s 35ms/step - loss: 0.9887 - toxic_loss: 0.3564 - severe_toxic_loss: 0.0744 - obscene_loss: 0.2316 - threat_loss: 0.0422 - insult_loss: 0.2238 - identity_hate_loss: 0.0603 - toxic_accuracy: 0.9002 - severe_toxic_accuracy: 0.9901 - obscene_accuracy: 0.9463 - threat_accuracy: 0.9968 - insult_accuracy: 0.9508 - identity_hate_accuracy: 0.9913 - val_loss: 0.8951 - val_toxic_loss: 0.3236 - val_severe_toxic_loss: 0.0716 - val_obscene_loss: 0.2108 - val_threat_loss: 0.0290 - val_insult_loss: 0.2051 - val_identity_hate_loss: 0.0551 - val_toxic_accuracy: 0.9031 - val_severe_toxic_accuracy: 0.9897 - val_obscene_accuracy: 0.9460 - val_threat_accuracy: 0.9972 - val_insult_accuracy: 0.9491 - val_identity_hate_accuracy: 0.9906\n",
      "Epoch 15/30\n",
      "219/219 [==============================] - 8s 36ms/step - loss: 0.9679 - toxic_loss: 0.3464 - severe_toxic_loss: 0.0750 - obscene_loss: 0.2302 - threat_loss: 0.0387 - insult_loss: 0.2174 - identity_hate_loss: 0.0603 - toxic_accuracy: 0.9019 - severe_toxic_accuracy: 0.9901 - obscene_accuracy: 0.9465 - threat_accuracy: 0.9968 - insult_accuracy: 0.9508 - identity_hate_accuracy: 0.9913 - val_loss: 0.8860 - val_toxic_loss: 0.3197 - val_severe_toxic_loss: 0.0720 - val_obscene_loss: 0.2107 - val_threat_loss: 0.0266 - val_insult_loss: 0.2026 - val_identity_hate_loss: 0.0544 - val_toxic_accuracy: 0.9031 - val_severe_toxic_accuracy: 0.9897 - val_obscene_accuracy: 0.9460 - val_threat_accuracy: 0.9972 - val_insult_accuracy: 0.9491 - val_identity_hate_accuracy: 0.9906\n",
      "Epoch 16/30\n",
      "219/219 [==============================] - 8s 35ms/step - loss: 0.9528 - toxic_loss: 0.3404 - severe_toxic_loss: 0.0754 - obscene_loss: 0.2294 - threat_loss: 0.0354 - insult_loss: 0.2129 - identity_hate_loss: 0.0593 - toxic_accuracy: 0.9028 - severe_toxic_accuracy: 0.9901 - obscene_accuracy: 0.9467 - threat_accuracy: 0.9968 - insult_accuracy: 0.9508 - identity_hate_accuracy: 0.9913 - val_loss: 0.8824 - val_toxic_loss: 0.3189 - val_severe_toxic_loss: 0.0719 - val_obscene_loss: 0.2109 - val_threat_loss: 0.0249 - val_insult_loss: 0.2018 - val_identity_hate_loss: 0.0540 - val_toxic_accuracy: 0.9031 - val_severe_toxic_accuracy: 0.9897 - val_obscene_accuracy: 0.9460 - val_threat_accuracy: 0.9972 - val_insult_accuracy: 0.9491 - val_identity_hate_accuracy: 0.9906\n",
      "Epoch 17/30\n",
      "219/219 [==============================] - 8s 35ms/step - loss: 0.9426 - toxic_loss: 0.3374 - severe_toxic_loss: 0.0741 - obscene_loss: 0.2280 - threat_loss: 0.0335 - insult_loss: 0.2108 - identity_hate_loss: 0.0588 - toxic_accuracy: 0.9030 - severe_toxic_accuracy: 0.9901 - obscene_accuracy: 0.9468 - threat_accuracy: 0.9969 - insult_accuracy: 0.9509 - identity_hate_accuracy: 0.9913 - val_loss: 0.8812 - val_toxic_loss: 0.3192 - val_severe_toxic_loss: 0.0715 - val_obscene_loss: 0.2112 - val_threat_loss: 0.0237 - val_insult_loss: 0.2018 - val_identity_hate_loss: 0.0538 - val_toxic_accuracy: 0.9031 - val_severe_toxic_accuracy: 0.9897 - val_obscene_accuracy: 0.9460 - val_threat_accuracy: 0.9972 - val_insult_accuracy: 0.9491 - val_identity_hate_accuracy: 0.9906\n",
      "Epoch 18/30\n",
      "219/219 [==============================] - 8s 35ms/step - loss: 0.9366 - toxic_loss: 0.3365 - severe_toxic_loss: 0.0739 - obscene_loss: 0.2277 - threat_loss: 0.0315 - insult_loss: 0.2093 - identity_hate_loss: 0.0576 - toxic_accuracy: 0.9032 - severe_toxic_accuracy: 0.9901 - obscene_accuracy: 0.9469 - threat_accuracy: 0.9969 - insult_accuracy: 0.9508 - identity_hate_accuracy: 0.9913 - val_loss: 0.8803 - val_toxic_loss: 0.3196 - val_severe_toxic_loss: 0.0709 - val_obscene_loss: 0.2113 - val_threat_loss: 0.0228 - val_insult_loss: 0.2021 - val_identity_hate_loss: 0.0536 - val_toxic_accuracy: 0.9031 - val_severe_toxic_accuracy: 0.9897 - val_obscene_accuracy: 0.9460 - val_threat_accuracy: 0.9972 - val_insult_accuracy: 0.9491 - val_identity_hate_accuracy: 0.9906\n",
      "Epoch 19/30\n",
      "219/219 [==============================] - 8s 35ms/step - loss: 0.9329 - toxic_loss: 0.3359 - severe_toxic_loss: 0.0731 - obscene_loss: 0.2270 - threat_loss: 0.0304 - insult_loss: 0.2086 - identity_hate_loss: 0.0579 - toxic_accuracy: 0.9034 - severe_toxic_accuracy: 0.9901 - obscene_accuracy: 0.9470 - threat_accuracy: 0.9969 - insult_accuracy: 0.9508 - identity_hate_accuracy: 0.9913 - val_loss: 0.8792 - val_toxic_loss: 0.3197 - val_severe_toxic_loss: 0.0701 - val_obscene_loss: 0.2113 - val_threat_loss: 0.0222 - val_insult_loss: 0.2023 - val_identity_hate_loss: 0.0536 - val_toxic_accuracy: 0.9031 - val_severe_toxic_accuracy: 0.9897 - val_obscene_accuracy: 0.9460 - val_threat_accuracy: 0.9972 - val_insult_accuracy: 0.9491 - val_identity_hate_accuracy: 0.9906\n",
      "Epoch 20/30\n",
      "219/219 [==============================] - 8s 35ms/step - loss: 0.9293 - toxic_loss: 0.3347 - severe_toxic_loss: 0.0723 - obscene_loss: 0.2267 - threat_loss: 0.0295 - insult_loss: 0.2086 - identity_hate_loss: 0.0574 - toxic_accuracy: 0.9037 - severe_toxic_accuracy: 0.9901 - obscene_accuracy: 0.9471 - threat_accuracy: 0.9969 - insult_accuracy: 0.9509 - identity_hate_accuracy: 0.9913 - val_loss: 0.8779 - val_toxic_loss: 0.3196 - val_severe_toxic_loss: 0.0693 - val_obscene_loss: 0.2113 - val_threat_loss: 0.0217 - val_insult_loss: 0.2025 - val_identity_hate_loss: 0.0535 - val_toxic_accuracy: 0.9031 - val_severe_toxic_accuracy: 0.9897 - val_obscene_accuracy: 0.9460 - val_threat_accuracy: 0.9972 - val_insult_accuracy: 0.9491 - val_identity_hate_accuracy: 0.9906\n",
      "Epoch 21/30\n",
      "219/219 [==============================] - 8s 35ms/step - loss: 0.9277 - toxic_loss: 0.3350 - severe_toxic_loss: 0.0716 - obscene_loss: 0.2264 - threat_loss: 0.0286 - insult_loss: 0.2085 - identity_hate_loss: 0.0576 - toxic_accuracy: 0.9037 - severe_toxic_accuracy: 0.9901 - obscene_accuracy: 0.9471 - threat_accuracy: 0.9969 - insult_accuracy: 0.9509 - identity_hate_accuracy: 0.9913 - val_loss: 0.8765 - val_toxic_loss: 0.3195 - val_severe_toxic_loss: 0.0684 - val_obscene_loss: 0.2112 - val_threat_loss: 0.0213 - val_insult_loss: 0.2026 - val_identity_hate_loss: 0.0535 - val_toxic_accuracy: 0.9031 - val_severe_toxic_accuracy: 0.9897 - val_obscene_accuracy: 0.9460 - val_threat_accuracy: 0.9972 - val_insult_accuracy: 0.9491 - val_identity_hate_accuracy: 0.9906\n",
      "Epoch 22/30\n",
      "219/219 [==============================] - 8s 35ms/step - loss: 0.9237 - toxic_loss: 0.3334 - severe_toxic_loss: 0.0708 - obscene_loss: 0.2253 - threat_loss: 0.0284 - insult_loss: 0.2082 - identity_hate_loss: 0.0575 - toxic_accuracy: 0.9038 - severe_toxic_accuracy: 0.9901 - obscene_accuracy: 0.9471 - threat_accuracy: 0.9969 - insult_accuracy: 0.9509 - identity_hate_accuracy: 0.9913 - val_loss: 0.8751 - val_toxic_loss: 0.3194 - val_severe_toxic_loss: 0.0674 - val_obscene_loss: 0.2111 - val_threat_loss: 0.0210 - val_insult_loss: 0.2027 - val_identity_hate_loss: 0.0534 - val_toxic_accuracy: 0.9031 - val_severe_toxic_accuracy: 0.9897 - val_obscene_accuracy: 0.9460 - val_threat_accuracy: 0.9972 - val_insult_accuracy: 0.9491 - val_identity_hate_accuracy: 0.9906\n",
      "Epoch 23/30\n",
      "219/219 [==============================] - 8s 35ms/step - loss: 0.9189 - toxic_loss: 0.3332 - severe_toxic_loss: 0.0696 - obscene_loss: 0.2244 - threat_loss: 0.0277 - insult_loss: 0.2073 - identity_hate_loss: 0.0567 - toxic_accuracy: 0.9039 - severe_toxic_accuracy: 0.9901 - obscene_accuracy: 0.9472 - threat_accuracy: 0.9969 - insult_accuracy: 0.9509 - identity_hate_accuracy: 0.9913 - val_loss: 0.8737 - val_toxic_loss: 0.3192 - val_severe_toxic_loss: 0.0665 - val_obscene_loss: 0.2110 - val_threat_loss: 0.0208 - val_insult_loss: 0.2028 - val_identity_hate_loss: 0.0534 - val_toxic_accuracy: 0.9031 - val_severe_toxic_accuracy: 0.9897 - val_obscene_accuracy: 0.9460 - val_threat_accuracy: 0.9972 - val_insult_accuracy: 0.9491 - val_identity_hate_accuracy: 0.9906\n",
      "Epoch 24/30\n",
      "219/219 [==============================] - 8s 35ms/step - loss: 0.9204 - toxic_loss: 0.3332 - severe_toxic_loss: 0.0692 - obscene_loss: 0.2244 - threat_loss: 0.0274 - insult_loss: 0.2085 - identity_hate_loss: 0.0577 - toxic_accuracy: 0.9038 - severe_toxic_accuracy: 0.9901 - obscene_accuracy: 0.9472 - threat_accuracy: 0.9969 - insult_accuracy: 0.9509 - identity_hate_accuracy: 0.9913 - val_loss: 0.8723 - val_toxic_loss: 0.3191 - val_severe_toxic_loss: 0.0656 - val_obscene_loss: 0.2109 - val_threat_loss: 0.0206 - val_insult_loss: 0.2027 - val_identity_hate_loss: 0.0534 - val_toxic_accuracy: 0.9031 - val_severe_toxic_accuracy: 0.9897 - val_obscene_accuracy: 0.9460 - val_threat_accuracy: 0.9972 - val_insult_accuracy: 0.9491 - val_identity_hate_accuracy: 0.9906\n",
      "Epoch 25/30\n",
      "219/219 [==============================] - 8s 35ms/step - loss: 0.9190 - toxic_loss: 0.3334 - severe_toxic_loss: 0.0684 - obscene_loss: 0.2243 - threat_loss: 0.0273 - insult_loss: 0.2084 - identity_hate_loss: 0.0572 - toxic_accuracy: 0.9039 - severe_toxic_accuracy: 0.9901 - obscene_accuracy: 0.9472 - threat_accuracy: 0.9969 - insult_accuracy: 0.9509 - identity_hate_accuracy: 0.9913 - val_loss: 0.8710 - val_toxic_loss: 0.3190 - val_severe_toxic_loss: 0.0648 - val_obscene_loss: 0.2108 - val_threat_loss: 0.0205 - val_insult_loss: 0.2027 - val_identity_hate_loss: 0.0533 - val_toxic_accuracy: 0.9031 - val_severe_toxic_accuracy: 0.9897 - val_obscene_accuracy: 0.9460 - val_threat_accuracy: 0.9972 - val_insult_accuracy: 0.9491 - val_identity_hate_accuracy: 0.9906\n",
      "Epoch 26/30\n",
      "219/219 [==============================] - 8s 35ms/step - loss: 0.9126 - toxic_loss: 0.3314 - severe_toxic_loss: 0.0679 - obscene_loss: 0.2229 - threat_loss: 0.0266 - insult_loss: 0.2070 - identity_hate_loss: 0.0568 - toxic_accuracy: 0.9039 - severe_toxic_accuracy: 0.9901 - obscene_accuracy: 0.9472 - threat_accuracy: 0.9969 - insult_accuracy: 0.9509 - identity_hate_accuracy: 0.9913 - val_loss: 0.8699 - val_toxic_loss: 0.3189 - val_severe_toxic_loss: 0.0640 - val_obscene_loss: 0.2107 - val_threat_loss: 0.0203 - val_insult_loss: 0.2027 - val_identity_hate_loss: 0.0533 - val_toxic_accuracy: 0.9031 - val_severe_toxic_accuracy: 0.9897 - val_obscene_accuracy: 0.9460 - val_threat_accuracy: 0.9972 - val_insult_accuracy: 0.9491 - val_identity_hate_accuracy: 0.9906\n",
      "Epoch 27/30\n",
      "219/219 [==============================] - 8s 35ms/step - loss: 0.9110 - toxic_loss: 0.3311 - severe_toxic_loss: 0.0665 - obscene_loss: 0.2231 - threat_loss: 0.0266 - insult_loss: 0.2074 - identity_hate_loss: 0.0564 - toxic_accuracy: 0.9039 - severe_toxic_accuracy: 0.9901 - obscene_accuracy: 0.9472 - threat_accuracy: 0.9969 - insult_accuracy: 0.9509 - identity_hate_accuracy: 0.9913 - val_loss: 0.8686 - val_toxic_loss: 0.3188 - val_severe_toxic_loss: 0.0632 - val_obscene_loss: 0.2105 - val_threat_loss: 0.0202 - val_insult_loss: 0.2027 - val_identity_hate_loss: 0.0532 - val_toxic_accuracy: 0.9031 - val_severe_toxic_accuracy: 0.9897 - val_obscene_accuracy: 0.9460 - val_threat_accuracy: 0.9972 - val_insult_accuracy: 0.9491 - val_identity_hate_accuracy: 0.9906\n",
      "Epoch 28/30\n",
      "219/219 [==============================] - 8s 35ms/step - loss: 0.9099 - toxic_loss: 0.3311 - severe_toxic_loss: 0.0662 - obscene_loss: 0.2222 - threat_loss: 0.0267 - insult_loss: 0.2065 - identity_hate_loss: 0.0572 - toxic_accuracy: 0.9040 - severe_toxic_accuracy: 0.9901 - obscene_accuracy: 0.9472 - threat_accuracy: 0.9969 - insult_accuracy: 0.9509 - identity_hate_accuracy: 0.9913 - val_loss: 0.8672 - val_toxic_loss: 0.3186 - val_severe_toxic_loss: 0.0624 - val_obscene_loss: 0.2104 - val_threat_loss: 0.0201 - val_insult_loss: 0.2026 - val_identity_hate_loss: 0.0531 - val_toxic_accuracy: 0.9031 - val_severe_toxic_accuracy: 0.9897 - val_obscene_accuracy: 0.9460 - val_threat_accuracy: 0.9972 - val_insult_accuracy: 0.9491 - val_identity_hate_accuracy: 0.9906\n",
      "Epoch 29/30\n",
      "219/219 [==============================] - 8s 37ms/step - loss: 0.9085 - toxic_loss: 0.3310 - severe_toxic_loss: 0.0659 - obscene_loss: 0.2221 - threat_loss: 0.0261 - insult_loss: 0.2070 - identity_hate_loss: 0.0565 - toxic_accuracy: 0.9040 - severe_toxic_accuracy: 0.9901 - obscene_accuracy: 0.9472 - threat_accuracy: 0.9969 - insult_accuracy: 0.9509 - identity_hate_accuracy: 0.9913 - val_loss: 0.8658 - val_toxic_loss: 0.3185 - val_severe_toxic_loss: 0.0616 - val_obscene_loss: 0.2102 - val_threat_loss: 0.0200 - val_insult_loss: 0.2025 - val_identity_hate_loss: 0.0530 - val_toxic_accuracy: 0.9031 - val_severe_toxic_accuracy: 0.9897 - val_obscene_accuracy: 0.9460 - val_threat_accuracy: 0.9972 - val_insult_accuracy: 0.9491 - val_identity_hate_accuracy: 0.9906\n",
      "Epoch 30/30\n",
      "219/219 [==============================] - 8s 38ms/step - loss: 0.9060 - toxic_loss: 0.3306 - severe_toxic_loss: 0.0642 - obscene_loss: 0.2219 - threat_loss: 0.0262 - insult_loss: 0.2068 - identity_hate_loss: 0.0564 - toxic_accuracy: 0.9040 - severe_toxic_accuracy: 0.9901 - obscene_accuracy: 0.9472 - threat_accuracy: 0.9969 - insult_accuracy: 0.9509 - identity_hate_accuracy: 0.9913 - val_loss: 0.8644 - val_toxic_loss: 0.3183 - val_severe_toxic_loss: 0.0608 - val_obscene_loss: 0.2100 - val_threat_loss: 0.0200 - val_insult_loss: 0.2023 - val_identity_hate_loss: 0.0530 - val_toxic_accuracy: 0.9031 - val_severe_toxic_accuracy: 0.9897 - val_obscene_accuracy: 0.9460 - val_threat_accuracy: 0.9972 - val_insult_accuracy: 0.9491 - val_identity_hate_accuracy: 0.9906\n"
     ]
    },
    {
     "data": {
      "text/plain": [
       "<keras.callbacks.History at 0x20a1e1f8430>"
      ]
     },
     "execution_count": 19,
     "metadata": {},
     "output_type": "execute_result"
    }
   ],
   "source": [
    "model_LSTM.fit(x = x_train , y = [y_train.toxic , y_train.severe_toxic , y_train.obscene \n",
    "                                    , y_train.threat , y_train.insult , y_train.identity_hate] ,\n",
    "                batch_size=512, epochs=30,\n",
    "                 validation_data=(x_val , [ y_val.toxic , y_val.severe_toxic , y_val.obscene \n",
    "                                            , y_val.threat , y_val.insult , y_val.identity_hate]))"
   ]
  },
  {
   "cell_type": "code",
   "execution_count": 20,
   "metadata": {},
   "outputs": [],
   "source": [
    " import matplotlib.pyplot as plt"
   ]
  },
  {
   "cell_type": "code",
   "execution_count": 23,
   "metadata": {},
   "outputs": [],
   "source": [
    "def plot_hist(hist):\n",
    "    plt.plot(hist.history.history[\"loss\"])\n",
    "    plt.plot(hist.history.history[\"val_loss\"])\n",
    "    plt.title(\"model loss\")\n",
    "    plt.ylabel(\"loss\")\n",
    "    plt.xlabel(\"epoch\")\n",
    "    plt.legend([\"train\", \"validation\"], loc=\"upper left\")\n",
    "    plt.show()"
   ]
  },
  {
   "cell_type": "code",
   "execution_count": 24,
   "metadata": {},
   "outputs": [
    {
     "data": {
      "image/png": "[encoded data removed]",
      "text/plain": [
       "<Figure size 432x288 with 1 Axes>"
      ]
     },
     "metadata": {
      "needs_background": "light"
     },
     "output_type": "display_data"
    }
   ],
   "source": [
    "plot_hist(model_LSTM)"
   ]
  },
  {
   "cell_type": "code",
   "execution_count": 25,
   "metadata": {},
   "outputs": [],
   "source": [
    "model_LSTM.compile(optimizer= tf.keras.optimizers.Adam(learning_rate=1e-5 ) ,   \n",
    "                     loss = ['binary_crossentropy' , 'binary_crossentropy' , 'binary_crossentropy' , \n",
    "                     'binary_crossentropy' , 'binary_crossentropy' , 'binary_crossentropy'] , metrics= [\"accuracy\"])"
   ]
  },
  {
   "cell_type": "code",
   "execution_count": 26,
   "metadata": {},
   "outputs": [
    {
     "name": "stdout",
     "output_type": "stream",
     "text": [
      "Epoch 1/30\n",
      "219/219 [==============================] - 11s 39ms/step - loss: 0.8987 - toxic_loss: 0.3288 - severe_toxic_loss: 0.0631 - obscene_loss: 0.2201 - threat_loss: 0.0254 - insult_loss: 0.2058 - identity_hate_loss: 0.0556 - toxic_accuracy: 0.9040 - severe_toxic_accuracy: 0.9901 - obscene_accuracy: 0.9472 - threat_accuracy: 0.9969 - insult_accuracy: 0.9509 - identity_hate_accuracy: 0.9913 - val_loss: 0.8606 - val_toxic_loss: 0.3177 - val_severe_toxic_loss: 0.0590 - val_obscene_loss: 0.2093 - val_threat_loss: 0.0200 - val_insult_loss: 0.2019 - val_identity_hate_loss: 0.0527 - val_toxic_accuracy: 0.9031 - val_severe_toxic_accuracy: 0.9897 - val_obscene_accuracy: 0.9460 - val_threat_accuracy: 0.9972 - val_insult_accuracy: 0.9491 - val_identity_hate_accuracy: 0.9906\n",
      "Epoch 2/30\n",
      "219/219 [==============================] - 8s 36ms/step - loss: 0.8970 - toxic_loss: 0.3284 - severe_toxic_loss: 0.0620 - obscene_loss: 0.2190 - threat_loss: 0.0256 - insult_loss: 0.2057 - identity_hate_loss: 0.0562 - toxic_accuracy: 0.9040 - severe_toxic_accuracy: 0.9901 - obscene_accuracy: 0.9472 - threat_accuracy: 0.9969 - insult_accuracy: 0.9509 - identity_hate_accuracy: 0.9913 - val_loss: 0.8576 - val_toxic_loss: 0.3172 - val_severe_toxic_loss: 0.0577 - val_obscene_loss: 0.2088 - val_threat_loss: 0.0200 - val_insult_loss: 0.2013 - val_identity_hate_loss: 0.0526 - val_toxic_accuracy: 0.9031 - val_severe_toxic_accuracy: 0.9897 - val_obscene_accuracy: 0.9460 - val_threat_accuracy: 0.9972 - val_insult_accuracy: 0.9491 - val_identity_hate_accuracy: 0.9906\n",
      "Epoch 3/30\n",
      "219/219 [==============================] - 8s 36ms/step - loss: 0.8906 - toxic_loss: 0.3266 - severe_toxic_loss: 0.0611 - obscene_loss: 0.2182 - threat_loss: 0.0249 - insult_loss: 0.2045 - identity_hate_loss: 0.0551 - toxic_accuracy: 0.9041 - severe_toxic_accuracy: 0.9901 - obscene_accuracy: 0.9472 - threat_accuracy: 0.9969 - insult_accuracy: 0.9509 - identity_hate_accuracy: 0.9913 - val_loss: 0.8551 - val_toxic_loss: 0.3166 - val_severe_toxic_loss: 0.0569 - val_obscene_loss: 0.2083 - val_threat_loss: 0.0200 - val_insult_loss: 0.2009 - val_identity_hate_loss: 0.0524 - val_toxic_accuracy: 0.9031 - val_severe_toxic_accuracy: 0.9897 - val_obscene_accuracy: 0.9460 - val_threat_accuracy: 0.9972 - val_insult_accuracy: 0.9491 - val_identity_hate_accuracy: 0.9906\n",
      "Epoch 4/30\n",
      "219/219 [==============================] - 8s 36ms/step - loss: 0.8824 - toxic_loss: 0.3248 - severe_toxic_loss: 0.0603 - obscene_loss: 0.2158 - threat_loss: 0.0244 - insult_loss: 0.2027 - identity_hate_loss: 0.0543 - toxic_accuracy: 0.9040 - severe_toxic_accuracy: 0.9901 - obscene_accuracy: 0.9472 - threat_accuracy: 0.9969 - insult_accuracy: 0.9509 - identity_hate_accuracy: 0.9913 - val_loss: 0.8529 - val_toxic_loss: 0.3159 - val_severe_toxic_loss: 0.0564 - val_obscene_loss: 0.2078 - val_threat_loss: 0.0200 - val_insult_loss: 0.2005 - val_identity_hate_loss: 0.0524 - val_toxic_accuracy: 0.9031 - val_severe_toxic_accuracy: 0.9897 - val_obscene_accuracy: 0.9460 - val_threat_accuracy: 0.9972 - val_insult_accuracy: 0.9491 - val_identity_hate_accuracy: 0.9906\n",
      "Epoch 5/30\n",
      "219/219 [==============================] - 8s 39ms/step - loss: 0.8806 - toxic_loss: 0.3241 - severe_toxic_loss: 0.0603 - obscene_loss: 0.2149 - threat_loss: 0.0241 - insult_loss: 0.2026 - identity_hate_loss: 0.0546 - toxic_accuracy: 0.9040 - severe_toxic_accuracy: 0.9901 - obscene_accuracy: 0.9472 - threat_accuracy: 0.9969 - insult_accuracy: 0.9509 - identity_hate_accuracy: 0.9913 - val_loss: 0.8504 - val_toxic_loss: 0.3152 - val_severe_toxic_loss: 0.0559 - val_obscene_loss: 0.2072 - val_threat_loss: 0.0201 - val_insult_loss: 0.1997 - val_identity_hate_loss: 0.0522 - val_toxic_accuracy: 0.9031 - val_severe_toxic_accuracy: 0.9897 - val_obscene_accuracy: 0.9460 - val_threat_accuracy: 0.9972 - val_insult_accuracy: 0.9491 - val_identity_hate_accuracy: 0.9906\n",
      "Epoch 6/30\n",
      "219/219 [==============================] - 8s 38ms/step - loss: 0.8745 - toxic_loss: 0.3231 - severe_toxic_loss: 0.0588 - obscene_loss: 0.2142 - threat_loss: 0.0236 - insult_loss: 0.2014 - identity_hate_loss: 0.0534 - toxic_accuracy: 0.9041 - severe_toxic_accuracy: 0.9901 - obscene_accuracy: 0.9472 - threat_accuracy: 0.9969 - insult_accuracy: 0.9509 - identity_hate_accuracy: 0.9913 - val_loss: 0.8477 - val_toxic_loss: 0.3145 - val_severe_toxic_loss: 0.0554 - val_obscene_loss: 0.2066 - val_threat_loss: 0.0200 - val_insult_loss: 0.1991 - val_identity_hate_loss: 0.0521 - val_toxic_accuracy: 0.9031 - val_severe_toxic_accuracy: 0.9897 - val_obscene_accuracy: 0.9460 - val_threat_accuracy: 0.9972 - val_insult_accuracy: 0.9491 - val_identity_hate_accuracy: 0.9906\n",
      "Epoch 7/30\n",
      "219/219 [==============================] - 8s 38ms/step - loss: 0.8684 - toxic_loss: 0.3215 - severe_toxic_loss: 0.0577 - obscene_loss: 0.2122 - threat_loss: 0.0239 - insult_loss: 0.2000 - identity_hate_loss: 0.0531 - toxic_accuracy: 0.9041 - severe_toxic_accuracy: 0.9901 - obscene_accuracy: 0.9472 - threat_accuracy: 0.9969 - insult_accuracy: 0.9509 - identity_hate_accuracy: 0.9913 - val_loss: 0.8450 - val_toxic_loss: 0.3137 - val_severe_toxic_loss: 0.0551 - val_obscene_loss: 0.2059 - val_threat_loss: 0.0199 - val_insult_loss: 0.1984 - val_identity_hate_loss: 0.0519 - val_toxic_accuracy: 0.9031 - val_severe_toxic_accuracy: 0.9897 - val_obscene_accuracy: 0.9460 - val_threat_accuracy: 0.9972 - val_insult_accuracy: 0.9491 - val_identity_hate_accuracy: 0.9906\n",
      "Epoch 8/30\n",
      "219/219 [==============================] - 8s 39ms/step - loss: 0.8636 - toxic_loss: 0.3201 - severe_toxic_loss: 0.0579 - obscene_loss: 0.2105 - threat_loss: 0.0233 - insult_loss: 0.1987 - identity_hate_loss: 0.0531 - toxic_accuracy: 0.9041 - severe_toxic_accuracy: 0.9901 - obscene_accuracy: 0.9472 - threat_accuracy: 0.9969 - insult_accuracy: 0.9509 - identity_hate_accuracy: 0.9913 - val_loss: 0.8416 - val_toxic_loss: 0.3126 - val_severe_toxic_loss: 0.0548 - val_obscene_loss: 0.2051 - val_threat_loss: 0.0198 - val_insult_loss: 0.1977 - val_identity_hate_loss: 0.0517 - val_toxic_accuracy: 0.9031 - val_severe_toxic_accuracy: 0.9897 - val_obscene_accuracy: 0.9460 - val_threat_accuracy: 0.9972 - val_insult_accuracy: 0.9491 - val_identity_hate_accuracy: 0.9906\n",
      "Epoch 9/30\n",
      "219/219 [==============================] - 8s 38ms/step - loss: 0.8576 - toxic_loss: 0.3183 - severe_toxic_loss: 0.0571 - obscene_loss: 0.2095 - threat_loss: 0.0231 - insult_loss: 0.1976 - identity_hate_loss: 0.0521 - toxic_accuracy: 0.9041 - severe_toxic_accuracy: 0.9901 - obscene_accuracy: 0.9472 - threat_accuracy: 0.9969 - insult_accuracy: 0.9509 - identity_hate_accuracy: 0.9913 - val_loss: 0.8319 - val_toxic_loss: 0.3097 - val_severe_toxic_loss: 0.0539 - val_obscene_loss: 0.2027 - val_threat_loss: 0.0197 - val_insult_loss: 0.1951 - val_identity_hate_loss: 0.0508 - val_toxic_accuracy: 0.9031 - val_severe_toxic_accuracy: 0.9897 - val_obscene_accuracy: 0.9460 - val_threat_accuracy: 0.9972 - val_insult_accuracy: 0.9491 - val_identity_hate_accuracy: 0.9906\n",
      "Epoch 10/30\n",
      "219/219 [==============================] - 8s 38ms/step - loss: 0.7850 - toxic_loss: 0.2953 - severe_toxic_loss: 0.0504 - obscene_loss: 0.1896 - threat_loss: 0.0223 - insult_loss: 0.1794 - identity_hate_loss: 0.0480 - toxic_accuracy: 0.9041 - severe_toxic_accuracy: 0.9901 - obscene_accuracy: 0.9472 - threat_accuracy: 0.9969 - insult_accuracy: 0.9509 - identity_hate_accuracy: 0.9913 - val_loss: 0.6785 - val_toxic_loss: 0.2644 - val_severe_toxic_loss: 0.0380 - val_obscene_loss: 0.1628 - val_threat_loss: 0.0176 - val_insult_loss: 0.1549 - val_identity_hate_loss: 0.0410 - val_toxic_accuracy: 0.9031 - val_severe_toxic_accuracy: 0.9897 - val_obscene_accuracy: 0.9460 - val_threat_accuracy: 0.9972 - val_insult_accuracy: 0.9491 - val_identity_hate_accuracy: 0.9906\n",
      "Epoch 11/30\n",
      "219/219 [==============================] - 9s 39ms/step - loss: 0.6533 - toxic_loss: 0.2551 - severe_toxic_loss: 0.0376 - obscene_loss: 0.1546 - threat_loss: 0.0198 - insult_loss: 0.1464 - identity_hate_loss: 0.0398 - toxic_accuracy: 0.9041 - severe_toxic_accuracy: 0.9901 - obscene_accuracy: 0.9472 - threat_accuracy: 0.9969 - insult_accuracy: 0.9509 - identity_hate_accuracy: 0.9913 - val_loss: 0.6268 - val_toxic_loss: 0.2460 - val_severe_toxic_loss: 0.0341 - val_obscene_loss: 0.1488 - val_threat_loss: 0.0171 - val_insult_loss: 0.1424 - val_identity_hate_loss: 0.0385 - val_toxic_accuracy: 0.9031 - val_severe_toxic_accuracy: 0.9897 - val_obscene_accuracy: 0.9460 - val_threat_accuracy: 0.9972 - val_insult_accuracy: 0.9491 - val_identity_hate_accuracy: 0.9906\n",
      "Epoch 12/30\n",
      "219/219 [==============================] - 8s 38ms/step - loss: 0.6074 - toxic_loss: 0.2400 - severe_toxic_loss: 0.0349 - obscene_loss: 0.1410 - threat_loss: 0.0195 - insult_loss: 0.1343 - identity_hate_loss: 0.0377 - toxic_accuracy: 0.9041 - severe_toxic_accuracy: 0.9901 - obscene_accuracy: 0.9472 - threat_accuracy: 0.9969 - insult_accuracy: 0.9509 - identity_hate_accuracy: 0.9913 - val_loss: 0.5993 - val_toxic_loss: 0.2355 - val_severe_toxic_loss: 0.0324 - val_obscene_loss: 0.1413 - val_threat_loss: 0.0173 - val_insult_loss: 0.1353 - val_identity_hate_loss: 0.0375 - val_toxic_accuracy: 0.9031 - val_severe_toxic_accuracy: 0.9897 - val_obscene_accuracy: 0.9460 - val_threat_accuracy: 0.9972 - val_insult_accuracy: 0.9491 - val_identity_hate_accuracy: 0.9906\n",
      "Epoch 13/30\n",
      "219/219 [==============================] - 8s 39ms/step - loss: 0.5786 - toxic_loss: 0.2293 - severe_toxic_loss: 0.0334 - obscene_loss: 0.1333 - threat_loss: 0.0195 - insult_loss: 0.1268 - identity_hate_loss: 0.0363 - toxic_accuracy: 0.9041 - severe_toxic_accuracy: 0.9901 - obscene_accuracy: 0.9472 - threat_accuracy: 0.9969 - insult_accuracy: 0.9509 - identity_hate_accuracy: 0.9913 - val_loss: 0.5792 - val_toxic_loss: 0.2271 - val_severe_toxic_loss: 0.0316 - val_obscene_loss: 0.1357 - val_threat_loss: 0.0179 - val_insult_loss: 0.1298 - val_identity_hate_loss: 0.0370 - val_toxic_accuracy: 0.9031 - val_severe_toxic_accuracy: 0.9897 - val_obscene_accuracy: 0.9460 - val_threat_accuracy: 0.9972 - val_insult_accuracy: 0.9491 - val_identity_hate_accuracy: 0.9906\n",
      "Epoch 14/30\n",
      "219/219 [==============================] - 8s 39ms/step - loss: 0.5585 - toxic_loss: 0.2215 - severe_toxic_loss: 0.0324 - obscene_loss: 0.1277 - threat_loss: 0.0197 - insult_loss: 0.1214 - identity_hate_loss: 0.0357 - toxic_accuracy: 0.9041 - severe_toxic_accuracy: 0.9901 - obscene_accuracy: 0.9472 - threat_accuracy: 0.9969 - insult_accuracy: 0.9509 - identity_hate_accuracy: 0.9913 - val_loss: 0.5643 - val_toxic_loss: 0.2199 - val_severe_toxic_loss: 0.0316 - val_obscene_loss: 0.1311 - val_threat_loss: 0.0192 - val_insult_loss: 0.1252 - val_identity_hate_loss: 0.0373 - val_toxic_accuracy: 0.9031 - val_severe_toxic_accuracy: 0.9897 - val_obscene_accuracy: 0.9460 - val_threat_accuracy: 0.9972 - val_insult_accuracy: 0.9491 - val_identity_hate_accuracy: 0.9906\n",
      "Epoch 15/30\n",
      "219/219 [==============================] - 8s 38ms/step - loss: 0.5402 - toxic_loss: 0.2147 - severe_toxic_loss: 0.0315 - obscene_loss: 0.1222 - threat_loss: 0.0200 - insult_loss: 0.1167 - identity_hate_loss: 0.0350 - toxic_accuracy: 0.9041 - severe_toxic_accuracy: 0.9901 - obscene_accuracy: 0.9472 - threat_accuracy: 0.9969 - insult_accuracy: 0.9509 - identity_hate_accuracy: 0.9913 - val_loss: 0.5523 - val_toxic_loss: 0.2163 - val_severe_toxic_loss: 0.0303 - val_obscene_loss: 0.1279 - val_threat_loss: 0.0187 - val_insult_loss: 0.1224 - val_identity_hate_loss: 0.0367 - val_toxic_accuracy: 0.9031 - val_severe_toxic_accuracy: 0.9897 - val_obscene_accuracy: 0.9460 - val_threat_accuracy: 0.9972 - val_insult_accuracy: 0.9491 - val_identity_hate_accuracy: 0.9906\n",
      "Epoch 16/30\n",
      "219/219 [==============================] - 8s 36ms/step - loss: 0.5236 - toxic_loss: 0.2083 - severe_toxic_loss: 0.0310 - obscene_loss: 0.1175 - threat_loss: 0.0203 - insult_loss: 0.1117 - identity_hate_loss: 0.0348 - toxic_accuracy: 0.9041 - severe_toxic_accuracy: 0.9901 - obscene_accuracy: 0.9472 - threat_accuracy: 0.9969 - insult_accuracy: 0.9509 - identity_hate_accuracy: 0.9913 - val_loss: 0.5406 - val_toxic_loss: 0.2106 - val_severe_toxic_loss: 0.0304 - val_obscene_loss: 0.1243 - val_threat_loss: 0.0196 - val_insult_loss: 0.1189 - val_identity_hate_loss: 0.0368 - val_toxic_accuracy: 0.9031 - val_severe_toxic_accuracy: 0.9897 - val_obscene_accuracy: 0.9460 - val_threat_accuracy: 0.9972 - val_insult_accuracy: 0.9491 - val_identity_hate_accuracy: 0.9906\n",
      "Epoch 17/30\n",
      "219/219 [==============================] - 8s 36ms/step - loss: 0.5109 - toxic_loss: 0.2034 - severe_toxic_loss: 0.0305 - obscene_loss: 0.1135 - threat_loss: 0.0205 - insult_loss: 0.1084 - identity_hate_loss: 0.0345 - toxic_accuracy: 0.9041 - severe_toxic_accuracy: 0.9901 - obscene_accuracy: 0.9472 - threat_accuracy: 0.9969 - insult_accuracy: 0.9509 - identity_hate_accuracy: 0.9913 - val_loss: 0.5311 - val_toxic_loss: 0.2061 - val_severe_toxic_loss: 0.0303 - val_obscene_loss: 0.1213 - val_threat_loss: 0.0202 - val_insult_loss: 0.1162 - val_identity_hate_loss: 0.0369 - val_toxic_accuracy: 0.9032 - val_severe_toxic_accuracy: 0.9897 - val_obscene_accuracy: 0.9460 - val_threat_accuracy: 0.9972 - val_insult_accuracy: 0.9491 - val_identity_hate_accuracy: 0.9906\n",
      "Epoch 18/30\n",
      "219/219 [==============================] - 8s 36ms/step - loss: 0.4978 - toxic_loss: 0.1976 - severe_toxic_loss: 0.0302 - obscene_loss: 0.1097 - threat_loss: 0.0207 - insult_loss: 0.1054 - identity_hate_loss: 0.0341 - toxic_accuracy: 0.9042 - severe_toxic_accuracy: 0.9901 - obscene_accuracy: 0.9472 - threat_accuracy: 0.9969 - insult_accuracy: 0.9509 - identity_hate_accuracy: 0.9913 - val_loss: 0.5237 - val_toxic_loss: 0.2036 - val_severe_toxic_loss: 0.0297 - val_obscene_loss: 0.1191 - val_threat_loss: 0.0202 - val_insult_loss: 0.1143 - val_identity_hate_loss: 0.0368 - val_toxic_accuracy: 0.9032 - val_severe_toxic_accuracy: 0.9897 - val_obscene_accuracy: 0.9460 - val_threat_accuracy: 0.9972 - val_insult_accuracy: 0.9491 - val_identity_hate_accuracy: 0.9906\n",
      "Epoch 19/30\n",
      "219/219 [==============================] - 8s 36ms/step - loss: 0.4867 - toxic_loss: 0.1934 - severe_toxic_loss: 0.0298 - obscene_loss: 0.1063 - threat_loss: 0.0210 - insult_loss: 0.1023 - identity_hate_loss: 0.0339 - toxic_accuracy: 0.9042 - severe_toxic_accuracy: 0.9901 - obscene_accuracy: 0.9472 - threat_accuracy: 0.9969 - insult_accuracy: 0.9509 - identity_hate_accuracy: 0.9913 - val_loss: 0.5164 - val_toxic_loss: 0.2001 - val_severe_toxic_loss: 0.0297 - val_obscene_loss: 0.1167 - val_threat_loss: 0.0208 - val_insult_loss: 0.1121 - val_identity_hate_loss: 0.0369 - val_toxic_accuracy: 0.9032 - val_severe_toxic_accuracy: 0.9897 - val_obscene_accuracy: 0.9460 - val_threat_accuracy: 0.9972 - val_insult_accuracy: 0.9491 - val_identity_hate_accuracy: 0.9906\n",
      "Epoch 20/30\n",
      "219/219 [==============================] - 8s 36ms/step - loss: 0.4770 - toxic_loss: 0.1890 - severe_toxic_loss: 0.0294 - obscene_loss: 0.1035 - threat_loss: 0.0213 - insult_loss: 0.0998 - identity_hate_loss: 0.0340 - toxic_accuracy: 0.9043 - severe_toxic_accuracy: 0.9901 - obscene_accuracy: 0.9472 - threat_accuracy: 0.9969 - insult_accuracy: 0.9509 - identity_hate_accuracy: 0.9913 - val_loss: 0.5099 - val_toxic_loss: 0.1975 - val_severe_toxic_loss: 0.0294 - val_obscene_loss: 0.1147 - val_threat_loss: 0.0210 - val_insult_loss: 0.1103 - val_identity_hate_loss: 0.0370 - val_toxic_accuracy: 0.9035 - val_severe_toxic_accuracy: 0.9897 - val_obscene_accuracy: 0.9460 - val_threat_accuracy: 0.9972 - val_insult_accuracy: 0.9491 - val_identity_hate_accuracy: 0.9906\n",
      "Epoch 21/30\n",
      "219/219 [==============================] - 8s 36ms/step - loss: 0.4685 - toxic_loss: 0.1850 - severe_toxic_loss: 0.0294 - obscene_loss: 0.1008 - threat_loss: 0.0217 - insult_loss: 0.0974 - identity_hate_loss: 0.0341 - toxic_accuracy: 0.9043 - severe_toxic_accuracy: 0.9901 - obscene_accuracy: 0.9472 - threat_accuracy: 0.9969 - insult_accuracy: 0.9509 - identity_hate_accuracy: 0.9913 - val_loss: 0.5056 - val_toxic_loss: 0.1961 - val_severe_toxic_loss: 0.0290 - val_obscene_loss: 0.1132 - val_threat_loss: 0.0210 - val_insult_loss: 0.1092 - val_identity_hate_loss: 0.0371 - val_toxic_accuracy: 0.9035 - val_severe_toxic_accuracy: 0.9897 - val_obscene_accuracy: 0.9460 - val_threat_accuracy: 0.9972 - val_insult_accuracy: 0.9491 - val_identity_hate_accuracy: 0.9906\n",
      "Epoch 22/30\n",
      "219/219 [==============================] - 8s 37ms/step - loss: 0.4592 - toxic_loss: 0.1810 - severe_toxic_loss: 0.0292 - obscene_loss: 0.0981 - threat_loss: 0.0219 - insult_loss: 0.0952 - identity_hate_loss: 0.0338 - toxic_accuracy: 0.9044 - severe_toxic_accuracy: 0.9901 - obscene_accuracy: 0.9472 - threat_accuracy: 0.9969 - insult_accuracy: 0.9509 - identity_hate_accuracy: 0.9913 - val_loss: 0.5005 - val_toxic_loss: 0.1937 - val_severe_toxic_loss: 0.0289 - val_obscene_loss: 0.1115 - val_threat_loss: 0.0214 - val_insult_loss: 0.1078 - val_identity_hate_loss: 0.0372 - val_toxic_accuracy: 0.9037 - val_severe_toxic_accuracy: 0.9897 - val_obscene_accuracy: 0.9460 - val_threat_accuracy: 0.9972 - val_insult_accuracy: 0.9491 - val_identity_hate_accuracy: 0.9906\n",
      "Epoch 23/30\n",
      "219/219 [==============================] - 8s 38ms/step - loss: 0.4522 - toxic_loss: 0.1782 - severe_toxic_loss: 0.0291 - obscene_loss: 0.0961 - threat_loss: 0.0222 - insult_loss: 0.0931 - identity_hate_loss: 0.0335 - toxic_accuracy: 0.9045 - severe_toxic_accuracy: 0.9901 - obscene_accuracy: 0.9472 - threat_accuracy: 0.9969 - insult_accuracy: 0.9509 - identity_hate_accuracy: 0.9913 - val_loss: 0.4948 - val_toxic_loss: 0.1905 - val_severe_toxic_loss: 0.0291 - val_obscene_loss: 0.1097 - val_threat_loss: 0.0220 - val_insult_loss: 0.1061 - val_identity_hate_loss: 0.0374 - val_toxic_accuracy: 0.9039 - val_severe_toxic_accuracy: 0.9897 - val_obscene_accuracy: 0.9460 - val_threat_accuracy: 0.9972 - val_insult_accuracy: 0.9491 - val_identity_hate_accuracy: 0.9906\n",
      "Epoch 24/30\n",
      "219/219 [==============================] - 8s 37ms/step - loss: 0.4439 - toxic_loss: 0.1745 - severe_toxic_loss: 0.0290 - obscene_loss: 0.0934 - threat_loss: 0.0224 - insult_loss: 0.0911 - identity_hate_loss: 0.0335 - toxic_accuracy: 0.9047 - severe_toxic_accuracy: 0.9901 - obscene_accuracy: 0.9472 - threat_accuracy: 0.9969 - insult_accuracy: 0.9509 - identity_hate_accuracy: 0.9913 - val_loss: 0.4927 - val_toxic_loss: 0.1898 - val_severe_toxic_loss: 0.0288 - val_obscene_loss: 0.1088 - val_threat_loss: 0.0222 - val_insult_loss: 0.1055 - val_identity_hate_loss: 0.0376 - val_toxic_accuracy: 0.9040 - val_severe_toxic_accuracy: 0.9897 - val_obscene_accuracy: 0.9460 - val_threat_accuracy: 0.9972 - val_insult_accuracy: 0.9491 - val_identity_hate_accuracy: 0.9906\n",
      "Epoch 25/30\n",
      "219/219 [==============================] - 8s 36ms/step - loss: 0.4375 - toxic_loss: 0.1715 - severe_toxic_loss: 0.0288 - obscene_loss: 0.0918 - threat_loss: 0.0227 - insult_loss: 0.0894 - identity_hate_loss: 0.0334 - toxic_accuracy: 0.9049 - severe_toxic_accuracy: 0.9901 - obscene_accuracy: 0.9472 - threat_accuracy: 0.9969 - insult_accuracy: 0.9509 - identity_hate_accuracy: 0.9913 - val_loss: 0.4889 - val_toxic_loss: 0.1879 - val_severe_toxic_loss: 0.0288 - val_obscene_loss: 0.1075 - val_threat_loss: 0.0223 - val_insult_loss: 0.1046 - val_identity_hate_loss: 0.0377 - val_toxic_accuracy: 0.9040 - val_severe_toxic_accuracy: 0.9897 - val_obscene_accuracy: 0.9460 - val_threat_accuracy: 0.9972 - val_insult_accuracy: 0.9491 - val_identity_hate_accuracy: 0.9906\n",
      "Epoch 26/30\n",
      "219/219 [==============================] - 8s 37ms/step - loss: 0.4312 - toxic_loss: 0.1685 - severe_toxic_loss: 0.0288 - obscene_loss: 0.0896 - threat_loss: 0.0230 - insult_loss: 0.0879 - identity_hate_loss: 0.0335 - toxic_accuracy: 0.9051 - severe_toxic_accuracy: 0.9901 - obscene_accuracy: 0.9472 - threat_accuracy: 0.9969 - insult_accuracy: 0.9509 - identity_hate_accuracy: 0.9913 - val_loss: 0.4844 - val_toxic_loss: 0.1848 - val_severe_toxic_loss: 0.0292 - val_obscene_loss: 0.1062 - val_threat_loss: 0.0230 - val_insult_loss: 0.1033 - val_identity_hate_loss: 0.0380 - val_toxic_accuracy: 0.9042 - val_severe_toxic_accuracy: 0.9897 - val_obscene_accuracy: 0.9460 - val_threat_accuracy: 0.9972 - val_insult_accuracy: 0.9491 - val_identity_hate_accuracy: 0.9906\n",
      "Epoch 27/30\n",
      "219/219 [==============================] - 8s 37ms/step - loss: 0.4259 - toxic_loss: 0.1661 - severe_toxic_loss: 0.0287 - obscene_loss: 0.0880 - threat_loss: 0.0230 - insult_loss: 0.0863 - identity_hate_loss: 0.0336 - toxic_accuracy: 0.9052 - severe_toxic_accuracy: 0.9901 - obscene_accuracy: 0.9472 - threat_accuracy: 0.9969 - insult_accuracy: 0.9509 - identity_hate_accuracy: 0.9913 - val_loss: 0.4816 - val_toxic_loss: 0.1832 - val_severe_toxic_loss: 0.0292 - val_obscene_loss: 0.1052 - val_threat_loss: 0.0233 - val_insult_loss: 0.1025 - val_identity_hate_loss: 0.0382 - val_toxic_accuracy: 0.9043 - val_severe_toxic_accuracy: 0.9897 - val_obscene_accuracy: 0.9460 - val_threat_accuracy: 0.9972 - val_insult_accuracy: 0.9491 - val_identity_hate_accuracy: 0.9906\n",
      "Epoch 28/30\n",
      "219/219 [==============================] - 8s 38ms/step - loss: 0.4206 - toxic_loss: 0.1632 - severe_toxic_loss: 0.0287 - obscene_loss: 0.0869 - threat_loss: 0.0232 - insult_loss: 0.0852 - identity_hate_loss: 0.0333 - toxic_accuracy: 0.9056 - severe_toxic_accuracy: 0.9901 - obscene_accuracy: 0.9472 - threat_accuracy: 0.9969 - insult_accuracy: 0.9509 - identity_hate_accuracy: 0.9913 - val_loss: 0.4824 - val_toxic_loss: 0.1846 - val_severe_toxic_loss: 0.0285 - val_obscene_loss: 0.1051 - val_threat_loss: 0.0230 - val_insult_loss: 0.1028 - val_identity_hate_loss: 0.0384 - val_toxic_accuracy: 0.9045 - val_severe_toxic_accuracy: 0.9897 - val_obscene_accuracy: 0.9460 - val_threat_accuracy: 0.9972 - val_insult_accuracy: 0.9491 - val_identity_hate_accuracy: 0.9906\n",
      "Epoch 29/30\n",
      "219/219 [==============================] - 8s 37ms/step - loss: 0.4152 - toxic_loss: 0.1608 - severe_toxic_loss: 0.0284 - obscene_loss: 0.0856 - threat_loss: 0.0234 - insult_loss: 0.0839 - identity_hate_loss: 0.0332 - toxic_accuracy: 0.9058 - severe_toxic_accuracy: 0.9901 - obscene_accuracy: 0.9472 - threat_accuracy: 0.9969 - insult_accuracy: 0.9509 - identity_hate_accuracy: 0.9913 - val_loss: 0.4791 - val_toxic_loss: 0.1826 - val_severe_toxic_loss: 0.0287 - val_obscene_loss: 0.1041 - val_threat_loss: 0.0232 - val_insult_loss: 0.1020 - val_identity_hate_loss: 0.0386 - val_toxic_accuracy: 0.9050 - val_severe_toxic_accuracy: 0.9897 - val_obscene_accuracy: 0.9460 - val_threat_accuracy: 0.9972 - val_insult_accuracy: 0.9491 - val_identity_hate_accuracy: 0.9906\n",
      "Epoch 30/30\n",
      "219/219 [==============================] - 8s 37ms/step - loss: 0.4119 - toxic_loss: 0.1592 - severe_toxic_loss: 0.0285 - obscene_loss: 0.0846 - threat_loss: 0.0234 - insult_loss: 0.0831 - identity_hate_loss: 0.0331 - toxic_accuracy: 0.9064 - severe_toxic_accuracy: 0.9901 - obscene_accuracy: 0.9472 - threat_accuracy: 0.9969 - insult_accuracy: 0.9509 - identity_hate_accuracy: 0.9913 - val_loss: 0.4821 - val_toxic_loss: 0.1847 - val_severe_toxic_loss: 0.0282 - val_obscene_loss: 0.1045 - val_threat_loss: 0.0227 - val_insult_loss: 0.1030 - val_identity_hate_loss: 0.0389 - val_toxic_accuracy: 0.9056 - val_severe_toxic_accuracy: 0.9897 - val_obscene_accuracy: 0.9460 - val_threat_accuracy: 0.9972 - val_insult_accuracy: 0.9491 - val_identity_hate_accuracy: 0.9906\n"
     ]
    },
    {
     "data": {
      "text/plain": [
       "<keras.callbacks.History at 0x20b5c204e50>"
      ]
     },
     "execution_count": 26,
     "metadata": {},
     "output_type": "execute_result"
    }
   ],
   "source": [
    "model_LSTM.fit(x = x_train , y = [y_train.toxic , y_train.severe_toxic , y_train.obscene \n",
    "                                    , y_train.threat , y_train.insult , y_train.identity_hate] ,\n",
    "                batch_size=512, epochs=30,\n",
    "                 validation_data=(x_val , [ y_val.toxic , y_val.severe_toxic , y_val.obscene \n",
    "                                            , y_val.threat , y_val.insult , y_val.identity_hate]))"
   ]
  },
  {
   "cell_type": "code",
   "execution_count": 27,
   "metadata": {},
   "outputs": [
    {
     "data": {
      "image/png": "[encoded data removed]",
      "text/plain": [
       "<Figure size 432x288 with 1 Axes>"
      ]
     },
     "metadata": {
      "needs_background": "light"
     },
     "output_type": "display_data"
    }
   ],
   "source": [
    "plot_hist(model_LSTM)"
   ]
  },
  {
   "cell_type": "code",
   "execution_count": 30,
   "metadata": {},
   "outputs": [
    {
     "name": "stderr",
     "output_type": "stream",
     "text": [
      "WARNING:absl:Found untraced functions such as lstm_cell_layer_call_fn, lstm_cell_layer_call_and_return_conditional_losses while saving (showing 2 of 2). These functions will not be directly callable after loading.\n"
     ]
    },
    {
     "name": "stdout",
     "output_type": "stream",
     "text": [
      "INFO:tensorflow:Assets written to: lstm.hfd5\\assets\n"
     ]
    },
    {
     "name": "stderr",
     "output_type": "stream",
     "text": [
      "INFO:tensorflow:Assets written to: lstm.hfd5\\assets\n",
      "WARNING:absl:<keras.layers.recurrent.LSTMCell object at 0x0000020A1F123C10> has the same name 'LSTMCell' as a built-in Keras object. Consider renaming <class 'keras.layers.recurrent.LSTMCell'> to avoid naming conflicts when loading with `tf.keras.models.load_model`. If renaming is not possible, pass the object in the `custom_objects` parameter of the load function.\n"
     ]
    }
   ],
   "source": [
    "model_LSTM.save(\"lstm.hfd5\")"
   ]
  },
  {
   "cell_type": "code",
   "execution_count": 31,
   "metadata": {},
   "outputs": [
    {
     "name": "stderr",
     "output_type": "stream",
     "text": [
      "WARNING:absl:Found untraced functions such as lstm_cell_layer_call_fn, lstm_cell_layer_call_and_return_conditional_losses while saving (showing 2 of 2). These functions will not be directly callable after loading.\n"
     ]
    },
    {
     "name": "stdout",
     "output_type": "stream",
     "text": [
      "INFO:tensorflow:Assets written to: lstm.tf\\assets\n"
     ]
    },
    {
     "name": "stderr",
     "output_type": "stream",
     "text": [
      "INFO:tensorflow:Assets written to: lstm.tf\\assets\n",
      "WARNING:absl:<keras.layers.recurrent.LSTMCell object at 0x0000020A1F123C10> has the same name 'LSTMCell' as a built-in Keras object. Consider renaming <class 'keras.layers.recurrent.LSTMCell'> to avoid naming conflicts when loading with `tf.keras.models.load_model`. If renaming is not possible, pass the object in the `custom_objects` parameter of the load function.\n"
     ]
    }
   ],
   "source": [
    "model_LSTM.save(\"lstm.tf\")"
   ]
  },
  {
   "cell_type": "code",
   "execution_count": 8,
   "metadata": {},
   "outputs": [],
   "source": [
    "model = tf.keras.models.load_model(\"lstm.tf\")"
   ]
  },
  {
   "cell_type": "code",
   "execution_count": 13,
   "metadata": {},
   "outputs": [
    {
     "name": "stdout",
     "output_type": "stream",
     "text": [
      "748/748 [==============================] - 11s 13ms/step - loss: 0.4696 - toxic_loss: 0.1814 - severe_toxic_loss: 0.0289 - obscene_loss: 0.0988 - threat_loss: 0.0220 - insult_loss: 0.0970 - identity_hate_loss: 0.0415 - toxic_accuracy: 0.9076 - severe_toxic_accuracy: 0.9900 - obscene_accuracy: 0.9472 - threat_accuracy: 0.9971 - insult_accuracy: 0.9511 - identity_hate_accuracy: 0.9914\n"
     ]
    },
    {
     "data": {
      "text/plain": [
       "[0.4695621132850647,\n",
       " 0.18135906755924225,\n",
       " 0.02892913483083248,\n",
       " 0.09881506115198135,\n",
       " 0.021969005465507507,\n",
       " 0.09696777164936066,\n",
       " 0.04152197390794754,\n",
       " 0.9075868725776672,\n",
       " 0.989973247051239,\n",
       " 0.9472342729568481,\n",
       " 0.9971173405647278,\n",
       " 0.9511196613311768,\n",
       " 0.9913519620895386]"
      ]
     },
     "execution_count": 13,
     "metadata": {},
     "output_type": "execute_result"
    }
   ],
   "source": [
    "model.evaluate(x_test, [ y_test.toxic , y_test.severe_toxic , y_test.obscene \n",
    "                                            , y_test.threat , y_test.insult , y_test.identity_hate])"
   ]
  },
  {
   "cell_type": "code",
   "execution_count": null,
   "metadata": {},
   "outputs": [],
   "source": []
  }
 ],
 "metadata": {
  "kernelspec": {
   "display_name": "base",
   "language": "python",
   "name": "python3"
  },
  "language_info": {
   "codemirror_mode": {
    "name": "ipython",
    "version": 3
   },
   "file_extension": ".py",
   "mimetype": "text/x-python",
   "name": "python",
   "nbconvert_exporter": "python",
   "pygments_lexer": "ipython3",
   "version": "3.9.12"
  },
  "orig_nbformat": 4,
  "vscode": {
   "interpreter": {
    "hash": "6fa20e30b057ebd6b5c548a33de14789bcd1ee59bdb1d8aadd5188efa915b212"
   }
  }
 },
 "nbformat": 4,
 "nbformat_minor": 2
}
