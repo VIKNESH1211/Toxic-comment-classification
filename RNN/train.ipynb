{
 "cells": [
  {
   "cell_type": "code",
   "execution_count": 1,
   "metadata": {},
   "outputs": [],
   "source": [
    "import tensorflow as tf\n",
    "import pandas as pd\n",
    "from tensorflow import keras\n",
    "from sklearn.model_selection import train_test_split"
   ]
  },
  {
   "cell_type": "code",
   "execution_count": 2,
   "metadata": {},
   "outputs": [],
   "source": [
    "df = pd.read_csv(\"D:/Toxic Comments/Cleaning the data/cleaned.csv\" , encoding=\"latin-1\")"
   ]
  },
  {
   "cell_type": "code",
   "execution_count": 3,
   "metadata": {},
   "outputs": [
    {
     "data": {
      "text/html": [
       "<div>\n",
       "<style scoped>\n",
       "    .dataframe tbody tr th:only-of-type {\n",
       "        vertical-align: middle;\n",
       "    }\n",
       "\n",
       "    .dataframe tbody tr th {\n",
       "        vertical-align: top;\n",
       "    }\n",
       "\n",
       "    .dataframe thead th {\n",
       "        text-align: right;\n",
       "    }\n",
       "</style>\n",
       "<table border=\"1\" class=\"dataframe\">\n",
       "  <thead>\n",
       "    <tr style=\"text-align: right;\">\n",
       "      <th></th>\n",
       "      <th>Unnamed: 0</th>\n",
       "      <th>id</th>\n",
       "      <th>comment_text</th>\n",
       "      <th>toxic</th>\n",
       "      <th>severe_toxic</th>\n",
       "      <th>obscene</th>\n",
       "      <th>threat</th>\n",
       "      <th>insult</th>\n",
       "      <th>identity_hate</th>\n",
       "    </tr>\n",
       "  </thead>\n",
       "  <tbody>\n",
       "    <tr>\n",
       "      <th>0</th>\n",
       "      <td>0</td>\n",
       "      <td>0000997932d777bf</td>\n",
       "      <td>explanation edits made username hardcore metal...</td>\n",
       "      <td>0</td>\n",
       "      <td>0</td>\n",
       "      <td>0</td>\n",
       "      <td>0</td>\n",
       "      <td>0</td>\n",
       "      <td>0</td>\n",
       "    </tr>\n",
       "    <tr>\n",
       "      <th>1</th>\n",
       "      <td>1</td>\n",
       "      <td>000103f0d9cfb60f</td>\n",
       "      <td>d'aww! matches background colour i'm seemingly...</td>\n",
       "      <td>0</td>\n",
       "      <td>0</td>\n",
       "      <td>0</td>\n",
       "      <td>0</td>\n",
       "      <td>0</td>\n",
       "      <td>0</td>\n",
       "    </tr>\n",
       "    <tr>\n",
       "      <th>2</th>\n",
       "      <td>2</td>\n",
       "      <td>000113f07ec002fd</td>\n",
       "      <td>hey man, i'm really trying edit war. guy const...</td>\n",
       "      <td>0</td>\n",
       "      <td>0</td>\n",
       "      <td>0</td>\n",
       "      <td>0</td>\n",
       "      <td>0</td>\n",
       "      <td>0</td>\n",
       "    </tr>\n",
       "    <tr>\n",
       "      <th>3</th>\n",
       "      <td>3</td>\n",
       "      <td>0001b41b1c6bb37e</td>\n",
       "      <td>\" can't make real suggestions improvement - wo...</td>\n",
       "      <td>0</td>\n",
       "      <td>0</td>\n",
       "      <td>0</td>\n",
       "      <td>0</td>\n",
       "      <td>0</td>\n",
       "      <td>0</td>\n",
       "    </tr>\n",
       "    <tr>\n",
       "      <th>4</th>\n",
       "      <td>4</td>\n",
       "      <td>0001d958c54c6e35</td>\n",
       "      <td>you, sir, hero. chance remember page that's on?</td>\n",
       "      <td>0</td>\n",
       "      <td>0</td>\n",
       "      <td>0</td>\n",
       "      <td>0</td>\n",
       "      <td>0</td>\n",
       "      <td>0</td>\n",
       "    </tr>\n",
       "    <tr>\n",
       "      <th>5</th>\n",
       "      <td>5</td>\n",
       "      <td>00025465d4725e87</td>\n",
       "      <td>\" congratulations well, use tools well. Ã¢ Ã¢Â...</td>\n",
       "      <td>0</td>\n",
       "      <td>0</td>\n",
       "      <td>0</td>\n",
       "      <td>0</td>\n",
       "      <td>0</td>\n",
       "      <td>0</td>\n",
       "    </tr>\n",
       "    <tr>\n",
       "      <th>6</th>\n",
       "      <td>6</td>\n",
       "      <td>0002bcb3da6cb337</td>\n",
       "      <td>cocksucker piss around work</td>\n",
       "      <td>1</td>\n",
       "      <td>1</td>\n",
       "      <td>1</td>\n",
       "      <td>0</td>\n",
       "      <td>1</td>\n",
       "      <td>0</td>\n",
       "    </tr>\n",
       "    <tr>\n",
       "      <th>7</th>\n",
       "      <td>7</td>\n",
       "      <td>00031b1e95af7921</td>\n",
       "      <td>vandalism matt shirvington article reverted. p...</td>\n",
       "      <td>0</td>\n",
       "      <td>0</td>\n",
       "      <td>0</td>\n",
       "      <td>0</td>\n",
       "      <td>0</td>\n",
       "      <td>0</td>\n",
       "    </tr>\n",
       "    <tr>\n",
       "      <th>8</th>\n",
       "      <td>8</td>\n",
       "      <td>00037261f536c51d</td>\n",
       "      <td>sorry word 'nonsense' offensive you. anyway, i...</td>\n",
       "      <td>0</td>\n",
       "      <td>0</td>\n",
       "      <td>0</td>\n",
       "      <td>0</td>\n",
       "      <td>0</td>\n",
       "      <td>0</td>\n",
       "    </tr>\n",
       "    <tr>\n",
       "      <th>9</th>\n",
       "      <td>9</td>\n",
       "      <td>00040093b2687caa</td>\n",
       "      <td>alignment subject contrary dulithgow</td>\n",
       "      <td>0</td>\n",
       "      <td>0</td>\n",
       "      <td>0</td>\n",
       "      <td>0</td>\n",
       "      <td>0</td>\n",
       "      <td>0</td>\n",
       "    </tr>\n",
       "    <tr>\n",
       "      <th>10</th>\n",
       "      <td>10</td>\n",
       "      <td>0005300084f90edc</td>\n",
       "      <td>\" fair use rationale image:wonju.jpg thanks up...</td>\n",
       "      <td>0</td>\n",
       "      <td>0</td>\n",
       "      <td>0</td>\n",
       "      <td>0</td>\n",
       "      <td>0</td>\n",
       "      <td>0</td>\n",
       "    </tr>\n",
       "    <tr>\n",
       "      <th>11</th>\n",
       "      <td>11</td>\n",
       "      <td>00054a5e18b50dd4</td>\n",
       "      <td>bbq man lets discuss it-maybe phone?</td>\n",
       "      <td>0</td>\n",
       "      <td>0</td>\n",
       "      <td>0</td>\n",
       "      <td>0</td>\n",
       "      <td>0</td>\n",
       "      <td>0</td>\n",
       "    </tr>\n",
       "    <tr>\n",
       "      <th>12</th>\n",
       "      <td>12</td>\n",
       "      <td>0005c987bdfc9d4b</td>\n",
       "      <td>hey... it.. @ | talk . it... exclusive group w...</td>\n",
       "      <td>1</td>\n",
       "      <td>0</td>\n",
       "      <td>0</td>\n",
       "      <td>0</td>\n",
       "      <td>0</td>\n",
       "      <td>0</td>\n",
       "    </tr>\n",
       "    <tr>\n",
       "      <th>13</th>\n",
       "      <td>13</td>\n",
       "      <td>0006f16e4e9f292e</td>\n",
       "      <td>start throwing accusations warnings me, lets r...</td>\n",
       "      <td>0</td>\n",
       "      <td>0</td>\n",
       "      <td>0</td>\n",
       "      <td>0</td>\n",
       "      <td>0</td>\n",
       "      <td>0</td>\n",
       "    </tr>\n",
       "    <tr>\n",
       "      <th>14</th>\n",
       "      <td>14</td>\n",
       "      <td>00070ef96486d6f9</td>\n",
       "      <td>oh, girl started arguments me. stuck nose belo...</td>\n",
       "      <td>0</td>\n",
       "      <td>0</td>\n",
       "      <td>0</td>\n",
       "      <td>0</td>\n",
       "      <td>0</td>\n",
       "      <td>0</td>\n",
       "    </tr>\n",
       "    <tr>\n",
       "      <th>15</th>\n",
       "      <td>15</td>\n",
       "      <td>00078f8ce7eb276d</td>\n",
       "      <td>\" juelz santanas age 2002, juelz santana 18 ye...</td>\n",
       "      <td>0</td>\n",
       "      <td>0</td>\n",
       "      <td>0</td>\n",
       "      <td>0</td>\n",
       "      <td>0</td>\n",
       "      <td>0</td>\n",
       "    </tr>\n",
       "    <tr>\n",
       "      <th>16</th>\n",
       "      <td>16</td>\n",
       "      <td>0007e25b2121310b</td>\n",
       "      <td>bye! look, come think comming back! tosser.</td>\n",
       "      <td>1</td>\n",
       "      <td>0</td>\n",
       "      <td>0</td>\n",
       "      <td>0</td>\n",
       "      <td>0</td>\n",
       "      <td>0</td>\n",
       "    </tr>\n",
       "    <tr>\n",
       "      <th>17</th>\n",
       "      <td>17</td>\n",
       "      <td>000897889268bc93</td>\n",
       "      <td>redirect talk:voydan pop georgiev- chernodrinski</td>\n",
       "      <td>0</td>\n",
       "      <td>0</td>\n",
       "      <td>0</td>\n",
       "      <td>0</td>\n",
       "      <td>0</td>\n",
       "      <td>0</td>\n",
       "    </tr>\n",
       "    <tr>\n",
       "      <th>18</th>\n",
       "      <td>18</td>\n",
       "      <td>0009801bd85e5806</td>\n",
       "      <td>mitsurugi point made sense - argue include hin...</td>\n",
       "      <td>0</td>\n",
       "      <td>0</td>\n",
       "      <td>0</td>\n",
       "      <td>0</td>\n",
       "      <td>0</td>\n",
       "      <td>0</td>\n",
       "    </tr>\n",
       "    <tr>\n",
       "      <th>19</th>\n",
       "      <td>19</td>\n",
       "      <td>0009eaea3325de8c</td>\n",
       "      <td>mean bother see writing something regarding re...</td>\n",
       "      <td>0</td>\n",
       "      <td>0</td>\n",
       "      <td>0</td>\n",
       "      <td>0</td>\n",
       "      <td>0</td>\n",
       "      <td>0</td>\n",
       "    </tr>\n",
       "  </tbody>\n",
       "</table>\n",
       "</div>"
      ],
      "text/plain": [
       "    Unnamed: 0                id  \\\n",
       "0            0  0000997932d777bf   \n",
       "1            1  000103f0d9cfb60f   \n",
       "2            2  000113f07ec002fd   \n",
       "3            3  0001b41b1c6bb37e   \n",
       "4            4  0001d958c54c6e35   \n",
       "5            5  00025465d4725e87   \n",
       "6            6  0002bcb3da6cb337   \n",
       "7            7  00031b1e95af7921   \n",
       "8            8  00037261f536c51d   \n",
       "9            9  00040093b2687caa   \n",
       "10          10  0005300084f90edc   \n",
       "11          11  00054a5e18b50dd4   \n",
       "12          12  0005c987bdfc9d4b   \n",
       "13          13  0006f16e4e9f292e   \n",
       "14          14  00070ef96486d6f9   \n",
       "15          15  00078f8ce7eb276d   \n",
       "16          16  0007e25b2121310b   \n",
       "17          17  000897889268bc93   \n",
       "18          18  0009801bd85e5806   \n",
       "19          19  0009eaea3325de8c   \n",
       "\n",
       "                                         comment_text  toxic  severe_toxic  \\\n",
       "0   explanation edits made username hardcore metal...      0             0   \n",
       "1   d'aww! matches background colour i'm seemingly...      0             0   \n",
       "2   hey man, i'm really trying edit war. guy const...      0             0   \n",
       "3   \" can't make real suggestions improvement - wo...      0             0   \n",
       "4     you, sir, hero. chance remember page that's on?      0             0   \n",
       "5   \" congratulations well, use tools well. Ã¢ Ã¢Â...      0             0   \n",
       "6                         cocksucker piss around work      1             1   \n",
       "7   vandalism matt shirvington article reverted. p...      0             0   \n",
       "8   sorry word 'nonsense' offensive you. anyway, i...      0             0   \n",
       "9                alignment subject contrary dulithgow      0             0   \n",
       "10  \" fair use rationale image:wonju.jpg thanks up...      0             0   \n",
       "11               bbq man lets discuss it-maybe phone?      0             0   \n",
       "12  hey... it.. @ | talk . it... exclusive group w...      1             0   \n",
       "13  start throwing accusations warnings me, lets r...      0             0   \n",
       "14  oh, girl started arguments me. stuck nose belo...      0             0   \n",
       "15  \" juelz santanas age 2002, juelz santana 18 ye...      0             0   \n",
       "16        bye! look, come think comming back! tosser.      1             0   \n",
       "17   redirect talk:voydan pop georgiev- chernodrinski      0             0   \n",
       "18  mitsurugi point made sense - argue include hin...      0             0   \n",
       "19  mean bother see writing something regarding re...      0             0   \n",
       "\n",
       "    obscene  threat  insult  identity_hate  \n",
       "0         0       0       0              0  \n",
       "1         0       0       0              0  \n",
       "2         0       0       0              0  \n",
       "3         0       0       0              0  \n",
       "4         0       0       0              0  \n",
       "5         0       0       0              0  \n",
       "6         1       0       1              0  \n",
       "7         0       0       0              0  \n",
       "8         0       0       0              0  \n",
       "9         0       0       0              0  \n",
       "10        0       0       0              0  \n",
       "11        0       0       0              0  \n",
       "12        0       0       0              0  \n",
       "13        0       0       0              0  \n",
       "14        0       0       0              0  \n",
       "15        0       0       0              0  \n",
       "16        0       0       0              0  \n",
       "17        0       0       0              0  \n",
       "18        0       0       0              0  \n",
       "19        0       0       0              0  "
      ]
     },
     "execution_count": 3,
     "metadata": {},
     "output_type": "execute_result"
    }
   ],
   "source": [
    "df.head(20)"
   ]
  },
  {
   "attachments": {},
   "cell_type": "markdown",
   "metadata": {},
   "source": [
    "Train_Test_Validation split"
   ]
  },
  {
   "cell_type": "code",
   "execution_count": 4,
   "metadata": {},
   "outputs": [],
   "source": [
    "x_train , x_split , y_train , y_split = train_test_split(df[\"comment_text\"] , \n",
    "                                df[[\"toxic\" , \"severe_toxic\" , \"obscene\" , \"threat\" , \"insult\" , \"identity_hate\"]] , \n",
    "                                test_size= 0.3 , random_state=42)"
   ]
  },
  {
   "cell_type": "code",
   "execution_count": 5,
   "metadata": {},
   "outputs": [],
   "source": [
    "x_test , x_val , y_test , y_val  = train_test_split( x_split, y_split, test_size= 0.5, random_state=42)"
   ]
  },
  {
   "cell_type": "code",
   "execution_count": 6,
   "metadata": {},
   "outputs": [
    {
     "name": "stdout",
     "output_type": "stream",
     "text": [
      "(111699,)\n",
      "(23936,)\n",
      "(23936,)\n",
      "(111699, 6)\n",
      "(23936, 6)\n",
      "(23936, 6)\n"
     ]
    }
   ],
   "source": [
    "print(x_train.shape)\n",
    "print(x_test.shape)\n",
    "print(x_val.shape)\n",
    "print(y_train.shape)\n",
    "print(y_test.shape)\n",
    "print(y_val.shape)"
   ]
  },
  {
   "attachments": {},
   "cell_type": "markdown",
   "metadata": {},
   "source": [
    "Text vectorizer"
   ]
  },
  {
   "cell_type": "code",
   "execution_count": 7,
   "metadata": {},
   "outputs": [
    {
     "data": {
      "text/plain": [
       "37"
      ]
     },
     "execution_count": 7,
     "metadata": {},
     "output_type": "execute_result"
    }
   ],
   "source": [
    "round(sum([len(i.split()) for i in x_train])/len(x_train))"
   ]
  },
  {
   "attachments": {},
   "cell_type": "markdown",
   "metadata": {},
   "source": [
    "average number of words in a sentence as per our data is 37 , there fore we will use 50"
   ]
  },
  {
   "cell_type": "code",
   "execution_count": 8,
   "metadata": {},
   "outputs": [],
   "source": [
    "from tensorflow.keras.layers.experimental.preprocessing import TextVectorization"
   ]
  },
  {
   "cell_type": "code",
   "execution_count": 9,
   "metadata": {},
   "outputs": [
    {
     "data": {
      "text/plain": [
       "<keras.layers.preprocessing.text_vectorization.TextVectorization at 0x111e3552520>"
      ]
     },
     "execution_count": 9,
     "metadata": {},
     "output_type": "execute_result"
    }
   ],
   "source": [
    "text_vec = TextVectorization(max_tokens= None , output_mode= 'int' , output_sequence_length= 55 , standardize= \"lower_and_strip_punctuation\" , split=\"whitespace\")\n",
    "text_vec"
   ]
  },
  {
   "cell_type": "code",
   "execution_count": 10,
   "metadata": {},
   "outputs": [],
   "source": [
    "text_vec.adapt(x_train)"
   ]
  },
  {
   "cell_type": "code",
   "execution_count": 11,
   "metadata": {},
   "outputs": [
    {
     "data": {
      "text/plain": [
       "\"notability rurika kasuga tag placed rurika kasuga, requesting speedily deleted wikipedia. done article seems person, group people, band, club, company, web content, indicate subject notable, is, article subject included wikipedia. criteria speedy deletion, articles assert notability may deleted time. please see guidelines generally accepted notable, indicate subject article notable, may contest tagging. this, add top page (below existing db tag) leave note article's talk page explaining position. please remove speedy deletion tag yourself, hesitate add information article would confirm subject's notability guidelines. guidelines specific types articles, may want check criteria biographies, web sites, bands, companies. feel free leave note talk page questions this.\""
      ]
     },
     "execution_count": 11,
     "metadata": {},
     "output_type": "execute_result"
    }
   ],
   "source": [
    "x_test[39]"
   ]
  },
  {
   "attachments": {},
   "cell_type": "markdown",
   "metadata": {},
   "source": [
    "Embedding Layer"
   ]
  },
  {
   "cell_type": "code",
   "execution_count": 12,
   "metadata": {},
   "outputs": [],
   "source": [
    "embed = keras.layers.Embedding (input_dim=50000, \n",
    "                                output_dim=128, \n",
    "                                embeddings_initializer=\"uniform\", \n",
    "                                input_length=55,\n",
    "                                name=\"embedding_1\")"
   ]
  },
  {
   "cell_type": "code",
   "execution_count": 13,
   "metadata": {},
   "outputs": [
    {
     "data": {
      "text/plain": [
       "<keras.layers.embeddings.Embedding at 0x111e353d220>"
      ]
     },
     "execution_count": 13,
     "metadata": {},
     "output_type": "execute_result"
    }
   ],
   "source": [
    "embed"
   ]
  },
  {
   "attachments": {},
   "cell_type": "markdown",
   "metadata": {},
   "source": [
    "Training a Vannila RNN for classifing the sentiment"
   ]
  },
  {
   "cell_type": "code",
   "execution_count": 14,
   "metadata": {},
   "outputs": [],
   "source": [
    "from tensorflow.keras import layers"
   ]
  },
  {
   "cell_type": "code",
   "execution_count": null,
   "metadata": {},
   "outputs": [],
   "source": [
    "input = layers.Input(shape=(1,0), dtype=\"string\")\n",
    "\n",
    "tv = text_vec (input)\n",
    "\n",
    "em = embed(tv)\n",
    "\n",
    "rnn = layers.SimpleRNN(64 , kernel_initializer= keras.initializers.RandomNormal(stddev=0.0001) ,\n",
    "                         recurrent_initializer = keras.initializers.Identity(gain=1.0))(em)\n",
    "\n",
    "drop1 = layers.Dropout(0.2)(rnn)  \n",
    "\n",
    "dense1 = layers.Dense(32 , activation=\"relu\")(drop1)\n",
    "\n",
    "drop2 = layers.Dropout(0.2)(dense1)\n",
    "\n",
    "dense2 = layers.Dense(32 , activation=\"relu\")(drop2)\n",
    "\n",
    "output1 = layers.Dense(1 , activation=\"sigmoid\" , name = \"toxic\")(dense2)\n",
    "output2 = layers.Dense(1 , activation=\"sigmoid\" , name = \"severe_toxic\")(dense2)\n",
    "output3 = layers.Dense(1 , activation=\"sigmoid\" , name = \"obscene\")(dense2)\n",
    "output4 = layers.Dense(1 , activation=\"sigmoid\" , name = \"threat\")(dense2)\n",
    "output5 = layers.Dense(1 , activation=\"sigmoid\" , name = \"insult\")(dense2)\n",
    "output6 = layers.Dense(1 , activation=\"sigmoid\" , name = \"identity_hate\")(dense2)\n",
    "\n",
    "model_rnn = keras.Model(inputs= input , outputs = [output1,output2,output3,output4,output5,output6] , name = 'vannila_rnn')\n"
   ]
  },
  {
   "cell_type": "code",
   "execution_count": 16,
   "metadata": {},
   "outputs": [
    {
     "name": "stdout",
     "output_type": "stream",
     "text": [
      "Model: \"vannila_rnn\"\n",
      "__________________________________________________________________________________________________\n",
      " Layer (type)                   Output Shape         Param #     Connected to                     \n",
      "==================================================================================================\n",
      " input_1 (InputLayer)           [(None, 1)]          0           []                               \n",
      "                                                                                                  \n",
      " text_vectorization (TextVector  (None, 55)          0           ['input_1[0][0]']                \n",
      " ization)                                                                                         \n",
      "                                                                                                  \n",
      " embedding_1 (Embedding)        (None, 55, 128)      6400000     ['text_vectorization[0][0]']     \n",
      "                                                                                                  \n",
      " simple_rnn (SimpleRNN)         (None, 64)           12352       ['embedding_1[0][0]']            \n",
      "                                                                                                  \n",
      " dropout (Dropout)              (None, 64)           0           ['simple_rnn[0][0]']             \n",
      "                                                                                                  \n",
      " dense (Dense)                  (None, 32)           2080        ['dropout[0][0]']                \n",
      "                                                                                                  \n",
      " dropout_1 (Dropout)            (None, 32)           0           ['dense[0][0]']                  \n",
      "                                                                                                  \n",
      " dense_1 (Dense)                (None, 32)           1056        ['dropout_1[0][0]']              \n",
      "                                                                                                  \n",
      " toxic (Dense)                  (None, 1)            33          ['dense_1[0][0]']                \n",
      "                                                                                                  \n",
      " severe_toxic (Dense)           (None, 1)            33          ['dense_1[0][0]']                \n",
      "                                                                                                  \n",
      " obscene (Dense)                (None, 1)            33          ['dense_1[0][0]']                \n",
      "                                                                                                  \n",
      " threat (Dense)                 (None, 1)            33          ['dense_1[0][0]']                \n",
      "                                                                                                  \n",
      " insult (Dense)                 (None, 1)            33          ['dense_1[0][0]']                \n",
      "                                                                                                  \n",
      " identity_hate (Dense)          (None, 1)            33          ['dense_1[0][0]']                \n",
      "                                                                                                  \n",
      "==================================================================================================\n",
      "Total params: 6,415,686\n",
      "Trainable params: 6,415,686\n",
      "Non-trainable params: 0\n",
      "__________________________________________________________________________________________________\n"
     ]
    }
   ],
   "source": [
    "model_rnn.summary()"
   ]
  },
  {
   "cell_type": "code",
   "execution_count": 17,
   "metadata": {},
   "outputs": [],
   "source": [
    "from tensorflow.keras.utils import plot_model"
   ]
  },
  {
   "cell_type": "code",
   "execution_count": 18,
   "metadata": {},
   "outputs": [
    {
     "data": {
      "image/png": "[encoded data removed]",
      "text/plain": [
       "<IPython.core.display.Image object>"
      ]
     },
     "execution_count": 18,
     "metadata": {},
     "output_type": "execute_result"
    }
   ],
   "source": [
    "plot_model(model_rnn)"
   ]
  },
  {
   "cell_type": "code",
   "execution_count": 26,
   "metadata": {},
   "outputs": [],
   "source": [
    "model_rnn.compile(optimizer= tf.keras.optimizers.Adam(learning_rate=1e-5)  ,\n",
    "                     loss = ['binary_crossentropy' , 'binary_crossentropy' , 'binary_crossentropy' , \n",
    "                     'binary_crossentropy' , 'binary_crossentropy' , 'binary_crossentropy'] , metrics='accuracy')"
   ]
  },
  {
   "cell_type": "code",
   "execution_count": 27,
   "metadata": {},
   "outputs": [
    {
     "name": "stdout",
     "output_type": "stream",
     "text": [
      "Epoch 1/15\n",
      "3491/3491 [==============================] - 354s 101ms/step - loss: 1.0977 - toxic_loss: 0.3097 - severe_toxic_loss: 0.1475 - obscene_loss: 0.2321 - threat_loss: 0.0979 - insult_loss: 0.2255 - identity_hate_loss: 0.0851 - toxic_accuracy: 0.9035 - severe_toxic_accuracy: 0.9589 - obscene_accuracy: 0.9277 - threat_accuracy: 0.9806 - insult_accuracy: 0.9358 - identity_hate_accuracy: 0.9905 - val_loss: 0.8757 - val_toxic_loss: 0.2966 - val_severe_toxic_loss: 0.0856 - val_obscene_loss: 0.1980 - val_threat_loss: 0.0493 - val_insult_loss: 0.1915 - val_identity_hate_loss: 0.0548 - val_toxic_accuracy: 0.9031 - val_severe_toxic_accuracy: 0.9897 - val_obscene_accuracy: 0.9460 - val_threat_accuracy: 0.9972 - val_insult_accuracy: 0.9491 - val_identity_hate_accuracy: 0.9906\n",
      "Epoch 2/15\n",
      "3491/3491 [==============================] - 353s 101ms/step - loss: 0.8217 - toxic_loss: 0.2978 - severe_toxic_loss: 0.0567 - obscene_loss: 0.1985 - threat_loss: 0.0285 - insult_loss: 0.1871 - identity_hate_loss: 0.0530 - toxic_accuracy: 0.9037 - severe_toxic_accuracy: 0.9901 - obscene_accuracy: 0.9453 - threat_accuracy: 0.9969 - insult_accuracy: 0.9505 - identity_hate_accuracy: 0.9913 - val_loss: 0.7761 - val_toxic_loss: 0.2923 - val_severe_toxic_loss: 0.0486 - val_obscene_loss: 0.1858 - val_threat_loss: 0.0200 - val_insult_loss: 0.1796 - val_identity_hate_loss: 0.0497 - val_toxic_accuracy: 0.9031 - val_severe_toxic_accuracy: 0.9897 - val_obscene_accuracy: 0.9460 - val_threat_accuracy: 0.9972 - val_insult_accuracy: 0.9491 - val_identity_hate_accuracy: 0.9906\n",
      "Epoch 3/15\n",
      "3491/3491 [==============================] - 351s 100ms/step - loss: 0.7977 - toxic_loss: 0.2956 - severe_toxic_loss: 0.0497 - obscene_loss: 0.1932 - threat_loss: 0.0232 - insult_loss: 0.1842 - identity_hate_loss: 0.0519 - toxic_accuracy: 0.9036 - severe_toxic_accuracy: 0.9901 - obscene_accuracy: 0.9457 - threat_accuracy: 0.9969 - insult_accuracy: 0.9506 - identity_hate_accuracy: 0.9913 - val_loss: 0.7763 - val_toxic_loss: 0.2923 - val_severe_toxic_loss: 0.0468 - val_obscene_loss: 0.1864 - val_threat_loss: 0.0188 - val_insult_loss: 0.1813 - val_identity_hate_loss: 0.0506 - val_toxic_accuracy: 0.9031 - val_severe_toxic_accuracy: 0.9897 - val_obscene_accuracy: 0.9460 - val_threat_accuracy: 0.9972 - val_insult_accuracy: 0.9491 - val_identity_hate_accuracy: 0.9906\n",
      "Epoch 4/15\n",
      "3491/3491 [==============================] - 350s 100ms/step - loss: 0.7829 - toxic_loss: 0.2917 - severe_toxic_loss: 0.0483 - obscene_loss: 0.1891 - threat_loss: 0.0224 - insult_loss: 0.1799 - identity_hate_loss: 0.0514 - toxic_accuracy: 0.9024 - severe_toxic_accuracy: 0.9901 - obscene_accuracy: 0.9452 - threat_accuracy: 0.9969 - insult_accuracy: 0.9503 - identity_hate_accuracy: 0.9913 - val_loss: 0.7434 - val_toxic_loss: 0.2832 - val_severe_toxic_loss: 0.0448 - val_obscene_loss: 0.1777 - val_threat_loss: 0.0184 - val_insult_loss: 0.1717 - val_identity_hate_loss: 0.0475 - val_toxic_accuracy: 0.9031 - val_severe_toxic_accuracy: 0.9897 - val_obscene_accuracy: 0.9460 - val_threat_accuracy: 0.9972 - val_insult_accuracy: 0.9491 - val_identity_hate_accuracy: 0.9906\n",
      "Epoch 5/15\n",
      "3491/3491 [==============================] - 350s 100ms/step - loss: 0.7628 - toxic_loss: 0.2845 - severe_toxic_loss: 0.0481 - obscene_loss: 0.1839 - threat_loss: 0.0219 - insult_loss: 0.1749 - identity_hate_loss: 0.0495 - toxic_accuracy: 0.9025 - severe_toxic_accuracy: 0.9901 - obscene_accuracy: 0.9450 - threat_accuracy: 0.9969 - insult_accuracy: 0.9504 - identity_hate_accuracy: 0.9913 - val_loss: 0.7254 - val_toxic_loss: 0.2762 - val_severe_toxic_loss: 0.0438 - val_obscene_loss: 0.1723 - val_threat_loss: 0.0180 - val_insult_loss: 0.1680 - val_identity_hate_loss: 0.0471 - val_toxic_accuracy: 0.9031 - val_severe_toxic_accuracy: 0.9897 - val_obscene_accuracy: 0.9460 - val_threat_accuracy: 0.9972 - val_insult_accuracy: 0.9491 - val_identity_hate_accuracy: 0.9906\n",
      "Epoch 6/15\n",
      "3491/3491 [==============================] - 350s 100ms/step - loss: 0.7292 - toxic_loss: 0.2726 - severe_toxic_loss: 0.0464 - obscene_loss: 0.1754 - threat_loss: 0.0206 - insult_loss: 0.1665 - identity_hate_loss: 0.0477 - toxic_accuracy: 0.9026 - severe_toxic_accuracy: 0.9901 - obscene_accuracy: 0.9459 - threat_accuracy: 0.9969 - insult_accuracy: 0.9506 - identity_hate_accuracy: 0.9913 - val_loss: 0.7783 - val_toxic_loss: 0.2932 - val_severe_toxic_loss: 0.0498 - val_obscene_loss: 0.1894 - val_threat_loss: 0.0192 - val_insult_loss: 0.1776 - val_identity_hate_loss: 0.0490 - val_toxic_accuracy: 0.9031 - val_severe_toxic_accuracy: 0.9897 - val_obscene_accuracy: 0.9460 - val_threat_accuracy: 0.9972 - val_insult_accuracy: 0.9491 - val_identity_hate_accuracy: 0.9906\n",
      "Epoch 7/15\n",
      "3491/3491 [==============================] - 349s 100ms/step - loss: 0.7993 - toxic_loss: 0.2903 - severe_toxic_loss: 0.0551 - obscene_loss: 0.1953 - threat_loss: 0.0225 - insult_loss: 0.1852 - identity_hate_loss: 0.0509 - toxic_accuracy: 0.9039 - severe_toxic_accuracy: 0.9901 - obscene_accuracy: 0.9470 - threat_accuracy: 0.9969 - insult_accuracy: 0.9508 - identity_hate_accuracy: 0.9913 - val_loss: 0.7786 - val_toxic_loss: 0.2895 - val_severe_toxic_loss: 0.0511 - val_obscene_loss: 0.1896 - val_threat_loss: 0.0184 - val_insult_loss: 0.1808 - val_identity_hate_loss: 0.0492 - val_toxic_accuracy: 0.9031 - val_severe_toxic_accuracy: 0.9897 - val_obscene_accuracy: 0.9460 - val_threat_accuracy: 0.9972 - val_insult_accuracy: 0.9491 - val_identity_hate_accuracy: 0.9906\n",
      "Epoch 8/15\n",
      "3491/3491 [==============================] - 351s 100ms/step - loss: 0.7697 - toxic_loss: 0.2821 - severe_toxic_loss: 0.0523 - obscene_loss: 0.1876 - threat_loss: 0.0208 - insult_loss: 0.1782 - identity_hate_loss: 0.0488 - toxic_accuracy: 0.9041 - severe_toxic_accuracy: 0.9901 - obscene_accuracy: 0.9472 - threat_accuracy: 0.9969 - insult_accuracy: 0.9509 - identity_hate_accuracy: 0.9913 - val_loss: 0.7782 - val_toxic_loss: 0.2894 - val_severe_toxic_loss: 0.0511 - val_obscene_loss: 0.1894 - val_threat_loss: 0.0184 - val_insult_loss: 0.1804 - val_identity_hate_loss: 0.0494 - val_toxic_accuracy: 0.9031 - val_severe_toxic_accuracy: 0.9897 - val_obscene_accuracy: 0.9460 - val_threat_accuracy: 0.9972 - val_insult_accuracy: 0.9491 - val_identity_hate_accuracy: 0.9906\n",
      "Epoch 9/15\n",
      "3491/3491 [==============================] - 348s 100ms/step - loss: 0.7596 - toxic_loss: 0.2778 - severe_toxic_loss: 0.0515 - obscene_loss: 0.1853 - threat_loss: 0.0206 - insult_loss: 0.1760 - identity_hate_loss: 0.0484 - toxic_accuracy: 0.9041 - severe_toxic_accuracy: 0.9901 - obscene_accuracy: 0.9472 - threat_accuracy: 0.9969 - insult_accuracy: 0.9509 - identity_hate_accuracy: 0.9913 - val_loss: 0.7710 - val_toxic_loss: 0.2868 - val_severe_toxic_loss: 0.0507 - val_obscene_loss: 0.1878 - val_threat_loss: 0.0183 - val_insult_loss: 0.1789 - val_identity_hate_loss: 0.0486 - val_toxic_accuracy: 0.9031 - val_severe_toxic_accuracy: 0.9897 - val_obscene_accuracy: 0.9460 - val_threat_accuracy: 0.9972 - val_insult_accuracy: 0.9491 - val_identity_hate_accuracy: 0.9906\n",
      "Epoch 10/15\n",
      "3491/3491 [==============================] - 347s 99ms/step - loss: 0.7858 - toxic_loss: 0.2871 - severe_toxic_loss: 0.0544 - obscene_loss: 0.1918 - threat_loss: 0.0213 - insult_loss: 0.1820 - identity_hate_loss: 0.0493 - toxic_accuracy: 0.9041 - severe_toxic_accuracy: 0.9901 - obscene_accuracy: 0.9472 - threat_accuracy: 0.9969 - insult_accuracy: 0.9509 - identity_hate_accuracy: 0.9913 - val_loss: 0.8139 - val_toxic_loss: 0.3033 - val_severe_toxic_loss: 0.0536 - val_obscene_loss: 0.1987 - val_threat_loss: 0.0186 - val_insult_loss: 0.1889 - val_identity_hate_loss: 0.0508 - val_toxic_accuracy: 0.9031 - val_severe_toxic_accuracy: 0.9897 - val_obscene_accuracy: 0.9460 - val_threat_accuracy: 0.9972 - val_insult_accuracy: 0.9491 - val_identity_hate_accuracy: 0.9906\n",
      "Epoch 11/15\n",
      "3491/3491 [==============================] - 346s 99ms/step - loss: 0.8192 - toxic_loss: 0.3004 - severe_toxic_loss: 0.0565 - obscene_loss: 0.1995 - threat_loss: 0.0215 - insult_loss: 0.1902 - identity_hate_loss: 0.0512 - toxic_accuracy: 0.9041 - severe_toxic_accuracy: 0.9901 - obscene_accuracy: 0.9472 - threat_accuracy: 0.9969 - insult_accuracy: 0.9509 - identity_hate_accuracy: 0.9913 - val_loss: 0.8481 - val_toxic_loss: 0.3148 - val_severe_toxic_loss: 0.0570 - val_obscene_loss: 0.2077 - val_threat_loss: 0.0191 - val_insult_loss: 0.1970 - val_identity_hate_loss: 0.0525 - val_toxic_accuracy: 0.9031 - val_severe_toxic_accuracy: 0.9897 - val_obscene_accuracy: 0.9460 - val_threat_accuracy: 0.9972 - val_insult_accuracy: 0.9491 - val_identity_hate_accuracy: 0.9906\n",
      "Epoch 12/15\n",
      "3491/3491 [==============================] - 346s 99ms/step - loss: 0.8567 - toxic_loss: 0.3147 - severe_toxic_loss: 0.0594 - obscene_loss: 0.2091 - threat_loss: 0.0227 - insult_loss: 0.1982 - identity_hate_loss: 0.0526 - toxic_accuracy: 0.9041 - severe_toxic_accuracy: 0.9901 - obscene_accuracy: 0.9472 - threat_accuracy: 0.9969 - insult_accuracy: 0.9509 - identity_hate_accuracy: 0.9913 - val_loss: 0.8314 - val_toxic_loss: 0.3075 - val_severe_toxic_loss: 0.0565 - val_obscene_loss: 0.2039 - val_threat_loss: 0.0189 - val_insult_loss: 0.1929 - val_identity_hate_loss: 0.0517 - val_toxic_accuracy: 0.9031 - val_severe_toxic_accuracy: 0.9897 - val_obscene_accuracy: 0.9460 - val_threat_accuracy: 0.9972 - val_insult_accuracy: 0.9491 - val_identity_hate_accuracy: 0.9906\n",
      "Epoch 13/15\n",
      "3491/3491 [==============================] - 347s 99ms/step - loss: 0.8123 - toxic_loss: 0.2992 - severe_toxic_loss: 0.0573 - obscene_loss: 0.1972 - threat_loss: 0.0217 - insult_loss: 0.1866 - identity_hate_loss: 0.0503 - toxic_accuracy: 0.9041 - severe_toxic_accuracy: 0.9901 - obscene_accuracy: 0.9472 - threat_accuracy: 0.9969 - insult_accuracy: 0.9509 - identity_hate_accuracy: 0.9913 - val_loss: 0.7353 - val_toxic_loss: 0.2728 - val_severe_toxic_loss: 0.0519 - val_obscene_loss: 0.1792 - val_threat_loss: 0.0173 - val_insult_loss: 0.1680 - val_identity_hate_loss: 0.0462 - val_toxic_accuracy: 0.9031 - val_severe_toxic_accuracy: 0.9897 - val_obscene_accuracy: 0.9460 - val_threat_accuracy: 0.9972 - val_insult_accuracy: 0.9491 - val_identity_hate_accuracy: 0.9906\n",
      "Epoch 14/15\n",
      "3491/3491 [==============================] - 346s 99ms/step - loss: 0.6276 - toxic_loss: 0.2386 - severe_toxic_loss: 0.0428 - obscene_loss: 0.1472 - threat_loss: 0.0183 - insult_loss: 0.1403 - identity_hate_loss: 0.0404 - toxic_accuracy: 0.9041 - severe_toxic_accuracy: 0.9901 - obscene_accuracy: 0.9472 - threat_accuracy: 0.9969 - insult_accuracy: 0.9509 - identity_hate_accuracy: 0.9913 - val_loss: 0.5948 - val_toxic_loss: 0.2355 - val_severe_toxic_loss: 0.0338 - val_obscene_loss: 0.1342 - val_threat_loss: 0.0169 - val_insult_loss: 0.1350 - val_identity_hate_loss: 0.0395 - val_toxic_accuracy: 0.9031 - val_severe_toxic_accuracy: 0.9897 - val_obscene_accuracy: 0.9460 - val_threat_accuracy: 0.9972 - val_insult_accuracy: 0.9491 - val_identity_hate_accuracy: 0.9906\n",
      "Epoch 15/15\n",
      "3491/3491 [==============================] - 353s 101ms/step - loss: 0.5676 - toxic_loss: 0.2239 - severe_toxic_loss: 0.0344 - obscene_loss: 0.1270 - threat_loss: 0.0196 - insult_loss: 0.1243 - identity_hate_loss: 0.0383 - toxic_accuracy: 0.9155 - severe_toxic_accuracy: 0.9901 - obscene_accuracy: 0.9480 - threat_accuracy: 0.9969 - insult_accuracy: 0.9509 - identity_hate_accuracy: 0.9913 - val_loss: 0.5162 - val_toxic_loss: 0.1945 - val_severe_toxic_loss: 0.0339 - val_obscene_loss: 0.1175 - val_threat_loss: 0.0189 - val_insult_loss: 0.1135 - val_identity_hate_loss: 0.0379 - val_toxic_accuracy: 0.9344 - val_severe_toxic_accuracy: 0.9897 - val_obscene_accuracy: 0.9456 - val_threat_accuracy: 0.9972 - val_insult_accuracy: 0.9491 - val_identity_hate_accuracy: 0.9906\n"
     ]
    },
    {
     "data": {
      "text/plain": [
       "<keras.callbacks.History at 0x11292c22e80>"
      ]
     },
     "execution_count": 27,
     "metadata": {},
     "output_type": "execute_result"
    }
   ],
   "source": [
    "model_rnn.fit(x = x_train , y = [y_train.toxic , y_train.severe_toxic , y_train.obscene \n",
    "                                    , y_train.threat , y_train.insult , y_train.identity_hate] ,\n",
    "                batch_size=32, epochs=15,\n",
    "                 validation_data=(x_val , [ y_val.toxic , y_val.severe_toxic , y_val.obscene \n",
    "                                            , y_val.threat , y_val.insult , y_val.identity_hate]))"
   ]
  },
  {
   "cell_type": "code",
   "execution_count": 30,
   "metadata": {},
   "outputs": [
    {
     "name": "stdout",
     "output_type": "stream",
     "text": [
      "INFO:tensorflow:Assets written to: model_rnn.tf\\assets\n"
     ]
    }
   ],
   "source": [
    "model_rnn.save(\"model_rnn.tf\")"
   ]
  },
  {
   "cell_type": "code",
   "execution_count": 32,
   "metadata": {},
   "outputs": [],
   "source": [
    "import matplotlib.pyplot as plt"
   ]
  },
  {
   "cell_type": "code",
   "execution_count": 47,
   "metadata": {},
   "outputs": [],
   "source": [
    "def plot_hist(hist):\n",
    "    plt.plot(hist.history.history[\"loss\"])\n",
    "    plt.plot(hist.history.history[\"val_loss\"])\n",
    "    plt.title(\"model accuracy\")\n",
    "    plt.ylabel(\"accuracy\")\n",
    "    plt.xlabel(\"epoch\")\n",
    "    plt.legend([\"train\", \"validation\"], loc=\"upper left\")\n",
    "    plt.show()"
   ]
  },
  {
   "cell_type": "code",
   "execution_count": 48,
   "metadata": {},
   "outputs": [
    {
     "data": {
      "image/png": "[encoded data removed]",
      "text/plain": [
       "<Figure size 432x288 with 1 Axes>"
      ]
     },
     "metadata": {
      "needs_background": "light"
     },
     "output_type": "display_data"
    }
   ],
   "source": [
    "plot_hist(model_rnn)"
   ]
  },
  {
   "cell_type": "code",
   "execution_count": 52,
   "metadata": {},
   "outputs": [],
   "source": [
    "pred = model_rnn.predict(x_test)"
   ]
  },
  {
   "cell_type": "code",
   "execution_count": 56,
   "metadata": {},
   "outputs": [
    {
     "name": "stdout",
     "output_type": "stream",
     "text": [
      "748/748 [==============================] - 12s 16ms/step - loss: 0.5075 - toxic_loss: 0.1894 - severe_toxic_loss: 0.0343 - obscene_loss: 0.1148 - threat_loss: 0.0189 - insult_loss: 0.1112 - identity_hate_loss: 0.0389 - toxic_accuracy: 0.9365 - severe_toxic_accuracy: 0.9900 - obscene_accuracy: 0.9468 - threat_accuracy: 0.9971 - insult_accuracy: 0.9511 - identity_hate_accuracy: 0.9914\n"
     ]
    }
   ],
   "source": [
    "Result = model_rnn.evaluate(x_test, [ y_test.toxic , y_test.severe_toxic , y_test.obscene \n",
    "                                            , y_test.threat , y_test.insult , y_test.identity_hate])"
   ]
  }
 ],
 "metadata": {
  "kernelspec": {
   "display_name": "base",
   "language": "python",
   "name": "python3"
  },
  "language_info": {
   "codemirror_mode": {
    "name": "ipython",
    "version": 3
   },
   "file_extension": ".py",
   "mimetype": "text/x-python",
   "name": "python",
   "nbconvert_exporter": "python",
   "pygments_lexer": "ipython3",
   "version": "3.9.12"
  },
  "orig_nbformat": 4,
  "vscode": {
   "interpreter": {
    "hash": "6fa20e30b057ebd6b5c548a33de14789bcd1ee59bdb1d8aadd5188efa915b212"
   }
  }
 },
 "nbformat": 4,
 "nbformat_minor": 2
}
